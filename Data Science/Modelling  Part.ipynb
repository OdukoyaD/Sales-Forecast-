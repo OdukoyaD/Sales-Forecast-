{
 "cells": [
  {
   "cell_type": "code",
   "execution_count": null,
   "id": "e3a62ea2",
   "metadata": {},
   "outputs": [],
   "source": [
    "### pip install plotly_express"
   ]
  },
  {
   "cell_type": "code",
   "execution_count": 1,
   "id": "faf9f441",
   "metadata": {
    "scrolled": true
   },
   "outputs": [],
   "source": [
    "import pandas as pd\n",
    "import pickle\n",
    "import numpy as np\n",
    "from downcast import reduce\n",
    "from matplotlib import pyplot as plt\n",
    "import seaborn as sns\n",
    "import plotly.express as px\n",
    "from tqdm import tqdm\n",
    "from sklearn.linear_model import LinearRegression\n",
    "import warnings\n",
    "warnings.filterwarnings(\"ignore\")\n",
    "import random \n",
    "from xgboost import XGBRegressor\n",
    "from sklearn.tree import DecisionTreeRegressor\n",
    "from sklearn.linear_model import ElasticNet\n",
    "from lightgbm import LGBMRegressor\n",
    "from catboost import CatBoostRegressor\n",
    "from sklearn.ensemble import RandomForestRegressor\n",
    "import warnings\n",
    "warnings.filterwarnings(\"ignore\")"
   ]
  },
  {
   "cell_type": "code",
   "execution_count": 48,
   "id": "e41f95ea",
   "metadata": {
    "scrolled": true
   },
   "outputs": [
    {
     "name": "stdout",
     "output_type": "stream",
     "text": [
      "Requirement already satisfied: catboost in c:\\users\\dk\\anaconda3\\lib\\site-packages (1.0.6)Note: you may need to restart the kernel to use updated packages.\n",
      "Requirement already satisfied: scipy in c:\\users\\dk\\anaconda3\\lib\\site-packages (from catboost) (1.7.1)\n",
      "Requirement already satisfied: plotly in c:\\users\\dk\\anaconda3\\lib\\site-packages (from catboost) (5.10.0)\n",
      "Requirement already satisfied: matplotlib in c:\\users\\dk\\anaconda3\\lib\\site-packages (from catboost) (3.4.3)\n",
      "\n",
      "Requirement already satisfied: pandas>=0.24.0 in c:\\users\\dk\\anaconda3\\lib\\site-packages (from catboost) (1.3.4)\n",
      "Requirement already satisfied: six in c:\\users\\dk\\anaconda3\\lib\\site-packages (from catboost) (1.16.0)\n",
      "Requirement already satisfied: numpy>=1.16.0 in c:\\users\\dk\\anaconda3\\lib\\site-packages (from catboost) (1.20.3)\n",
      "Requirement already satisfied: graphviz in c:\\users\\dk\\anaconda3\\lib\\site-packages (from catboost) (0.20.1)\n",
      "Requirement already satisfied: python-dateutil>=2.7.3 in c:\\users\\dk\\anaconda3\\lib\\site-packages (from pandas>=0.24.0->catboost) (2.8.2)\n",
      "Requirement already satisfied: pytz>=2017.3 in c:\\users\\dk\\anaconda3\\lib\\site-packages (from pandas>=0.24.0->catboost) (2021.3)\n",
      "Requirement already satisfied: pillow>=6.2.0 in c:\\users\\dk\\anaconda3\\lib\\site-packages (from matplotlib->catboost) (8.4.0)\n",
      "Requirement already satisfied: pyparsing>=2.2.1 in c:\\users\\dk\\anaconda3\\lib\\site-packages (from matplotlib->catboost) (3.0.4)\n",
      "Requirement already satisfied: cycler>=0.10 in c:\\users\\dk\\anaconda3\\lib\\site-packages (from matplotlib->catboost) (0.10.0)\n",
      "Requirement already satisfied: kiwisolver>=1.0.1 in c:\\users\\dk\\anaconda3\\lib\\site-packages (from matplotlib->catboost) (1.3.1)\n",
      "Requirement already satisfied: tenacity>=6.2.0 in c:\\users\\dk\\anaconda3\\lib\\site-packages (from plotly->catboost) (8.0.1)\n"
     ]
    }
   ],
   "source": [
    "pip install catboost "
   ]
  },
  {
   "cell_type": "markdown",
   "id": "1f6dc71a",
   "metadata": {},
   "source": [
    "RMSE Formulae"
   ]
  },
  {
   "cell_type": "markdown",
   "id": "e4d34a5f",
   "metadata": {},
   "source": [
    "* ![RMSE1.jpg](data:image/jpeg;base64,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)"
   ]
  },
  {
   "cell_type": "code",
   "execution_count": 2,
   "id": "3d6accb1",
   "metadata": {},
   "outputs": [],
   "source": [
    "def rmse(pred,value):\n",
    "    return np.sqrt(((pred-value)**2).mean())"
   ]
  },
  {
   "cell_type": "code",
   "execution_count": 3,
   "id": "f53e80f8",
   "metadata": {},
   "outputs": [],
   "source": [
    "df_sales = pd.read_csv(\"sales_train_evaluation.csv\")"
   ]
  },
  {
   "cell_type": "markdown",
   "id": "1704a8a3",
   "metadata": {},
   "source": [
    "#### Loading data from the cleaned dataset"
   ]
  },
  {
   "cell_type": "code",
   "execution_count": 4,
   "id": "4a50e034",
   "metadata": {},
   "outputs": [],
   "source": [
    "with open('cleaned_data.pkl','rb') as f:\n",
    "   cleaned_data=pickle.load(f)"
   ]
  },
  {
   "cell_type": "code",
   "execution_count": 5,
   "id": "eb35a6b8",
   "metadata": {},
   "outputs": [
    {
     "data": {
      "text/plain": [
       "(59181090, 36)"
      ]
     },
     "execution_count": 5,
     "metadata": {},
     "output_type": "execute_result"
    }
   ],
   "source": [
    "cleaned_data.shape"
   ]
  },
  {
   "cell_type": "markdown",
   "id": "bb3cbbd0",
   "metadata": {
    "scrolled": true
   },
   "source": [
    "Taking part of the dataset of day 1000 to train the dataset"
   ]
  },
  {
   "cell_type": "code",
   "execution_count": 6,
   "id": "512fd3ea",
   "metadata": {},
   "outputs": [],
   "source": [
    "df=cleaned_data[cleaned_data['day']>1000]"
   ]
  },
  {
   "cell_type": "code",
   "execution_count": 7,
   "id": "09afa188",
   "metadata": {
    "scrolled": true
   },
   "outputs": [
    {
     "data": {
      "text/plain": [
       "(28691090, 36)"
      ]
     },
     "execution_count": 7,
     "metadata": {},
     "output_type": "execute_result"
    }
   ],
   "source": [
    "df.shape"
   ]
  },
  {
   "cell_type": "markdown",
   "id": "68c1a875",
   "metadata": {},
   "source": [
    "* Divide data into Train/Test/Validation \n",
    "\n",
    "  * Train: Till d_1885\n",
    "\n",
    "  * Validation: From d_1886 to d_1914\n",
    "\n",
    "  * Test: From d_1914 to d_1941"
   ]
  },
  {
   "cell_type": "code",
   "execution_count": 8,
   "id": "d6346a38",
   "metadata": {},
   "outputs": [
    {
     "name": "stdout",
     "output_type": "stream",
     "text": [
      "x_train (26983650, 35)   y_train (26983650,)\n",
      "\n",
      "x_valid (853720, 35)   y_valid (853720,)\n",
      "\n",
      "x_test (853720, 35)   y_test (853720,)\n"
     ]
    }
   ],
   "source": [
    "l=[]\n",
    "for i in range(1886,1914):\n",
    "  l.append(i)\n",
    "\n",
    "x_train=df.loc[df['day']<=1885]\n",
    "x_valid=df.loc[df['day'].isin(l)]\n",
    "x_test=df.loc[df['day']>=1914]\n",
    "\n",
    "y_train=x_train['demand']\n",
    "y_valid=x_valid['demand']\n",
    "y_test=x_test['demand']\n",
    "\n",
    "x_train=x_train.drop(['demand'],axis=1)\n",
    "x_valid=x_valid.drop(['demand'],axis=1)\n",
    "x_test=x_test.drop(['demand'],axis=1)\n",
    "\n",
    "print(\"x_train {}\".format(x_train.shape),\"  y_train {}\".format(y_train.shape))\n",
    "print(\"\\nx_valid {}\".format(x_valid.shape),\"  y_valid {}\".format(y_valid.shape))\n",
    "print(\"\\nx_test {}\".format(x_test.shape),\"  y_test {}\".format(y_test.shape))"
   ]
  },
  {
   "cell_type": "markdown",
   "id": "cdac5ff8",
   "metadata": {},
   "source": [
    "#### Linear Regression Model"
   ]
  },
  {
   "cell_type": "code",
   "execution_count": 12,
   "id": "b376e262",
   "metadata": {},
   "outputs": [
    {
     "name": "stdout",
     "output_type": "stream",
     "text": [
      "Rmse: 1.8829993950614423\n"
     ]
    }
   ],
   "source": [
    "lr=LinearRegression(n_jobs=-1)\n",
    "lr.fit(x_train,y_train)\n",
    "y_pred=lr.predict(x_valid)\n",
    "print(\"Rmse: {}\".format(rmse(y_pred,y_valid)))"
   ]
  },
  {
   "cell_type": "markdown",
   "id": "9c247581",
   "metadata": {},
   "source": [
    "#### Saving into pickle"
   ]
  },
  {
   "cell_type": "code",
   "execution_count": 14,
   "id": "f394b71f",
   "metadata": {},
   "outputs": [],
   "source": [
    "with open('Linear_Regression.pkl','wb') as f:\n",
    "     pickle.dump(lr,f)"
   ]
  },
  {
   "cell_type": "code",
   "execution_count": 27,
   "id": "e29d9fd0",
   "metadata": {},
   "outputs": [
    {
     "data": {
      "image/png": "[encoded data removed]",
      "text/plain": [
       "<Figure size 576x720 with 1 Axes>"
      ]
     },
     "metadata": {
      "needs_background": "light"
     },
     "output_type": "display_data"
    }
   ],
   "source": [
    "features=x_train.columns\n",
    "imp=lr.coef_\n",
    "indices=(np.argsort(imp))[10:]\n",
    "plt.figure(figsize=(8,10))\n",
    "plt.title('Important Feature ',fontsize=14)\n",
    "plt.barh(range(len(indices)),imp[indices],color='b')\n",
    "plt.yticks(range(len(indices)),[features[i] for i in indices])\n",
    "plt.xlabel('Relative Importance',fontsize=14)\n",
    "plt.show()"
   ]
  },
  {
   "cell_type": "code",
   "execution_count": 28,
   "id": "57d1c079",
   "metadata": {},
   "outputs": [],
   "source": [
    "s1=pd.DataFrame()\n",
    "s2=pd.DataFrame()\n",
    "#test dataset(from 1914 to 1941 days) present in sales_train_evaluation only thats why sales_train_evaluation choosen\n",
    "s1['id']=df_sales['id'] \n",
    "j=1\n",
    "for i in range(1914,1942):\n",
    "  s1['F'+str(j)]=lr.predict(x_test[x_test['day']==(i)]) \n",
    "  j+=1\n",
    "s1[\"id\"]=s1[\"id\"].apply(lambda x: x.replace('evaluation','validation'))\n",
    "s2=s1.copy()\n",
    "s2[\"id\"]=s1[\"id\"].apply(lambda x: x.replace('validation','evaluation'))\n",
    "submit_Linear=pd.concat([s1,s2]).reset_index().drop(['index'],axis=1)"
   ]
  },
  {
   "cell_type": "code",
   "execution_count": 51,
   "id": "2a0d05a1",
   "metadata": {},
   "outputs": [
    {
     "data": {
      "text/html": [
       "<div>\n",
       "<style scoped>\n",
       "    .dataframe tbody tr th:only-of-type {\n",
       "        vertical-align: middle;\n",
       "    }\n",
       "\n",
       "    .dataframe tbody tr th {\n",
       "        vertical-align: top;\n",
       "    }\n",
       "\n",
       "    .dataframe thead th {\n",
       "        text-align: right;\n",
       "    }\n",
       "</style>\n",
       "<table border=\"1\" class=\"dataframe\">\n",
       "  <thead>\n",
       "    <tr style=\"text-align: right;\">\n",
       "      <th></th>\n",
       "      <th>id</th>\n",
       "      <th>F1</th>\n",
       "      <th>F2</th>\n",
       "      <th>F3</th>\n",
       "      <th>F4</th>\n",
       "      <th>F5</th>\n",
       "      <th>F6</th>\n",
       "      <th>F7</th>\n",
       "      <th>F8</th>\n",
       "      <th>F9</th>\n",
       "      <th>...</th>\n",
       "      <th>F19</th>\n",
       "      <th>F20</th>\n",
       "      <th>F21</th>\n",
       "      <th>F22</th>\n",
       "      <th>F23</th>\n",
       "      <th>F24</th>\n",
       "      <th>F25</th>\n",
       "      <th>F26</th>\n",
       "      <th>F27</th>\n",
       "      <th>F28</th>\n",
       "    </tr>\n",
       "  </thead>\n",
       "  <tbody>\n",
       "    <tr>\n",
       "      <th>0</th>\n",
       "      <td>HOBBIES_1_001_CA_1_validation</td>\n",
       "      <td>1.030289</td>\n",
       "      <td>0.996689</td>\n",
       "      <td>0.218460</td>\n",
       "      <td>0.170837</td>\n",
       "      <td>0.420135</td>\n",
       "      <td>0.538132</td>\n",
       "      <td>0.695572</td>\n",
       "      <td>0.332718</td>\n",
       "      <td>0.558517</td>\n",
       "      <td>...</td>\n",
       "      <td>1.941391</td>\n",
       "      <td>2.201324</td>\n",
       "      <td>2.253510</td>\n",
       "      <td>0.979218</td>\n",
       "      <td>0.360794</td>\n",
       "      <td>0.318542</td>\n",
       "      <td>0.474594</td>\n",
       "      <td>0.329437</td>\n",
       "      <td>0.588074</td>\n",
       "      <td>0.639755</td>\n",
       "    </tr>\n",
       "    <tr>\n",
       "      <th>1</th>\n",
       "      <td>HOBBIES_1_002_CA_1_validation</td>\n",
       "      <td>0.194595</td>\n",
       "      <td>0.125732</td>\n",
       "      <td>0.094788</td>\n",
       "      <td>0.208954</td>\n",
       "      <td>0.193268</td>\n",
       "      <td>0.453339</td>\n",
       "      <td>0.518951</td>\n",
       "      <td>0.247559</td>\n",
       "      <td>0.220261</td>\n",
       "      <td>...</td>\n",
       "      <td>0.188705</td>\n",
       "      <td>0.444565</td>\n",
       "      <td>0.551865</td>\n",
       "      <td>0.179565</td>\n",
       "      <td>0.895828</td>\n",
       "      <td>0.961792</td>\n",
       "      <td>0.947250</td>\n",
       "      <td>0.916321</td>\n",
       "      <td>0.415115</td>\n",
       "      <td>0.447021</td>\n",
       "    </tr>\n",
       "    <tr>\n",
       "      <th>2</th>\n",
       "      <td>HOBBIES_1_003_CA_1_validation</td>\n",
       "      <td>0.983292</td>\n",
       "      <td>1.009979</td>\n",
       "      <td>1.063187</td>\n",
       "      <td>1.115036</td>\n",
       "      <td>1.279282</td>\n",
       "      <td>1.601257</td>\n",
       "      <td>1.627197</td>\n",
       "      <td>1.230408</td>\n",
       "      <td>1.293976</td>\n",
       "      <td>...</td>\n",
       "      <td>1.104721</td>\n",
       "      <td>0.630966</td>\n",
       "      <td>0.659836</td>\n",
       "      <td>0.162506</td>\n",
       "      <td>0.107086</td>\n",
       "      <td>0.003372</td>\n",
       "      <td>0.125946</td>\n",
       "      <td>0.205383</td>\n",
       "      <td>0.300140</td>\n",
       "      <td>0.403061</td>\n",
       "    </tr>\n",
       "    <tr>\n",
       "      <th>3</th>\n",
       "      <td>HOBBIES_1_004_CA_1_validation</td>\n",
       "      <td>1.125870</td>\n",
       "      <td>0.822662</td>\n",
       "      <td>0.905594</td>\n",
       "      <td>2.016876</td>\n",
       "      <td>2.093658</td>\n",
       "      <td>1.820389</td>\n",
       "      <td>2.050888</td>\n",
       "      <td>2.223343</td>\n",
       "      <td>2.043060</td>\n",
       "      <td>...</td>\n",
       "      <td>1.287354</td>\n",
       "      <td>1.671753</td>\n",
       "      <td>2.219955</td>\n",
       "      <td>1.537506</td>\n",
       "      <td>1.120514</td>\n",
       "      <td>1.143890</td>\n",
       "      <td>1.154037</td>\n",
       "      <td>1.375275</td>\n",
       "      <td>2.039246</td>\n",
       "      <td>2.733551</td>\n",
       "    </tr>\n",
       "    <tr>\n",
       "      <th>4</th>\n",
       "      <td>HOBBIES_1_005_CA_1_validation</td>\n",
       "      <td>2.021942</td>\n",
       "      <td>1.954163</td>\n",
       "      <td>2.089996</td>\n",
       "      <td>2.033340</td>\n",
       "      <td>1.933136</td>\n",
       "      <td>1.361664</td>\n",
       "      <td>1.759277</td>\n",
       "      <td>2.059723</td>\n",
       "      <td>2.128952</td>\n",
       "      <td>...</td>\n",
       "      <td>2.285828</td>\n",
       "      <td>2.483917</td>\n",
       "      <td>2.659775</td>\n",
       "      <td>2.228928</td>\n",
       "      <td>1.421371</td>\n",
       "      <td>0.710495</td>\n",
       "      <td>0.733856</td>\n",
       "      <td>0.777359</td>\n",
       "      <td>1.706436</td>\n",
       "      <td>1.870361</td>\n",
       "    </tr>\n",
       "  </tbody>\n",
       "</table>\n",
       "<p>5 rows × 29 columns</p>\n",
       "</div>"
      ],
      "text/plain": [
       "                              id        F1        F2        F3        F4  \\\n",
       "0  HOBBIES_1_001_CA_1_validation  1.030289  0.996689  0.218460  0.170837   \n",
       "1  HOBBIES_1_002_CA_1_validation  0.194595  0.125732  0.094788  0.208954   \n",
       "2  HOBBIES_1_003_CA_1_validation  0.983292  1.009979  1.063187  1.115036   \n",
       "3  HOBBIES_1_004_CA_1_validation  1.125870  0.822662  0.905594  2.016876   \n",
       "4  HOBBIES_1_005_CA_1_validation  2.021942  1.954163  2.089996  2.033340   \n",
       "\n",
       "         F5        F6        F7        F8        F9  ...       F19       F20  \\\n",
       "0  0.420135  0.538132  0.695572  0.332718  0.558517  ...  1.941391  2.201324   \n",
       "1  0.193268  0.453339  0.518951  0.247559  0.220261  ...  0.188705  0.444565   \n",
       "2  1.279282  1.601257  1.627197  1.230408  1.293976  ...  1.104721  0.630966   \n",
       "3  2.093658  1.820389  2.050888  2.223343  2.043060  ...  1.287354  1.671753   \n",
       "4  1.933136  1.361664  1.759277  2.059723  2.128952  ...  2.285828  2.483917   \n",
       "\n",
       "        F21       F22       F23       F24       F25       F26       F27  \\\n",
       "0  2.253510  0.979218  0.360794  0.318542  0.474594  0.329437  0.588074   \n",
       "1  0.551865  0.179565  0.895828  0.961792  0.947250  0.916321  0.415115   \n",
       "2  0.659836  0.162506  0.107086  0.003372  0.125946  0.205383  0.300140   \n",
       "3  2.219955  1.537506  1.120514  1.143890  1.154037  1.375275  2.039246   \n",
       "4  2.659775  2.228928  1.421371  0.710495  0.733856  0.777359  1.706436   \n",
       "\n",
       "        F28  \n",
       "0  0.639755  \n",
       "1  0.447021  \n",
       "2  0.403061  \n",
       "3  2.733551  \n",
       "4  1.870361  \n",
       "\n",
       "[5 rows x 29 columns]"
      ]
     },
     "execution_count": 51,
     "metadata": {},
     "output_type": "execute_result"
    }
   ],
   "source": [
    "submit_Linear.head()"
   ]
  },
  {
   "cell_type": "code",
   "execution_count": 31,
   "id": "2b99baf9",
   "metadata": {},
   "outputs": [],
   "source": [
    "submit_Linear.to_csv(\"submit_Linear.csv\",index=False)"
   ]
  },
  {
   "cell_type": "markdown",
   "id": "59c9bb04",
   "metadata": {},
   "source": [
    "#### LGBoost "
   ]
  },
  {
   "cell_type": "code",
   "execution_count": 32,
   "id": "88c29305",
   "metadata": {
    "scrolled": false
   },
   "outputs": [
    {
     "name": "stderr",
     "output_type": "stream",
     "text": [
      "  7%|█████▎                                                                          | 1/15 [05:06<1:11:37, 306.93s/it]"
     ]
    },
    {
     "name": "stdout",
     "output_type": "stream",
     "text": [
      "\n",
      "\n",
      "learning_rate: 0.0304   max_depth: 35   num_leaves: 85   Rmse: 1.835137845181922\n",
      "------------------------------------------------------------------------------------------------------------------------------------------------------\n"
     ]
    },
    {
     "name": "stderr",
     "output_type": "stream",
     "text": [
      "\r",
      " 13%|██████████▋                                                                     | 2/15 [10:16<1:06:49, 308.45s/it]"
     ]
    },
    {
     "name": "stdout",
     "output_type": "stream",
     "text": [
      "\n",
      "\n",
      "learning_rate: 0.014   max_depth: 88   num_leaves: 81   Rmse: 2.001804666871274\n",
      "------------------------------------------------------------------------------------------------------------------------------------------------------\n"
     ]
    },
    {
     "name": "stderr",
     "output_type": "stream",
     "text": [
      "\r",
      " 20%|████████████████                                                                | 3/15 [15:08<1:00:12, 301.07s/it]"
     ]
    },
    {
     "name": "stdout",
     "output_type": "stream",
     "text": [
      "\n",
      "\n",
      "learning_rate: 0.0378   max_depth: 87   num_leaves: 95   Rmse: 1.8368946439139913\n",
      "------------------------------------------------------------------------------------------------------------------------------------------------------\n"
     ]
    },
    {
     "name": "stderr",
     "output_type": "stream",
     "text": [
      "\r",
      " 27%|█████████████████████▎                                                          | 4/15 [21:29<1:00:58, 332.55s/it]"
     ]
    },
    {
     "name": "stdout",
     "output_type": "stream",
     "text": [
      "\n",
      "\n",
      "learning_rate: 0.0029   max_depth: 28   num_leaves: 272   Rmse: 2.958748267818982\n",
      "------------------------------------------------------------------------------------------------------------------------------------------------------\n"
     ]
    },
    {
     "name": "stderr",
     "output_type": "stream",
     "text": [
      "\r",
      " 33%|███████████████████████████▎                                                      | 5/15 [27:09<55:51, 335.14s/it]"
     ]
    },
    {
     "name": "stdout",
     "output_type": "stream",
     "text": [
      "\n",
      "\n",
      "learning_rate: 0.0041   max_depth: 78   num_leaves: 113   Rmse: 2.763670168478532\n",
      "------------------------------------------------------------------------------------------------------------------------------------------------------\n"
     ]
    },
    {
     "name": "stderr",
     "output_type": "stream",
     "text": [
      "\r",
      " 40%|████████████████████████████████▊                                                 | 6/15 [31:19<45:56, 306.23s/it]"
     ]
    },
    {
     "name": "stdout",
     "output_type": "stream",
     "text": [
      "\n",
      "\n",
      "learning_rate: 0.0375   max_depth: 179   num_leaves: 28   Rmse: 1.8418917040846257\n",
      "------------------------------------------------------------------------------------------------------------------------------------------------------\n"
     ]
    },
    {
     "name": "stderr",
     "output_type": "stream",
     "text": [
      "\r",
      " 47%|██████████████████████████████████████▎                                           | 7/15 [36:08<40:05, 300.73s/it]"
     ]
    },
    {
     "name": "stdout",
     "output_type": "stream",
     "text": [
      "\n",
      "\n",
      "learning_rate: 0.0486   max_depth: 17   num_leaves: 156   Rmse: 1.855640359521668\n",
      "------------------------------------------------------------------------------------------------------------------------------------------------------\n"
     ]
    },
    {
     "name": "stderr",
     "output_type": "stream",
     "text": [
      "\r",
      " 53%|███████████████████████████████████████████▋                                      | 8/15 [41:57<36:51, 315.91s/it]"
     ]
    },
    {
     "name": "stdout",
     "output_type": "stream",
     "text": [
      "\n",
      "\n",
      "learning_rate: 0.0025   max_depth: 25   num_leaves: 234   Rmse: 3.0334445684917823\n",
      "------------------------------------------------------------------------------------------------------------------------------------------------------\n"
     ]
    },
    {
     "name": "stderr",
     "output_type": "stream",
     "text": [
      "\r",
      " 60%|█████████████████████████████████████████████████▏                                | 9/15 [47:12<31:33, 315.66s/it]"
     ]
    },
    {
     "name": "stdout",
     "output_type": "stream",
     "text": [
      "\n",
      "\n",
      "learning_rate: 0.0412   max_depth: 196   num_leaves: 273   Rmse: 1.8413412307525001\n",
      "------------------------------------------------------------------------------------------------------------------------------------------------------\n"
     ]
    },
    {
     "name": "stderr",
     "output_type": "stream",
     "text": [
      "\r",
      " 67%|██████████████████████████████████████████████████████                           | 10/15 [51:26<24:43, 296.65s/it]"
     ]
    },
    {
     "name": "stdout",
     "output_type": "stream",
     "text": [
      "\n",
      "\n",
      "learning_rate: 0.0396   max_depth: 124   num_leaves: 43   Rmse: 1.840414282856133\n",
      "------------------------------------------------------------------------------------------------------------------------------------------------------\n"
     ]
    },
    {
     "name": "stderr",
     "output_type": "stream",
     "text": [
      "\r",
      " 73%|███████████████████████████████████████████████████████████▍                     | 11/15 [56:36<20:02, 300.74s/it]"
     ]
    },
    {
     "name": "stdout",
     "output_type": "stream",
     "text": [
      "\n",
      "\n",
      "learning_rate: 0.025   max_depth: 155   num_leaves: 163   Rmse: 1.8452707590677675\n",
      "------------------------------------------------------------------------------------------------------------------------------------------------------\n"
     ]
    },
    {
     "name": "stderr",
     "output_type": "stream",
     "text": [
      "\r",
      " 80%|███████████████████████████████████████████████████████████████▏               | 12/15 [1:02:19<15:40, 313.62s/it]"
     ]
    },
    {
     "name": "stdout",
     "output_type": "stream",
     "text": [
      "\n",
      "\n",
      "learning_rate: 0.0174   max_depth: 129   num_leaves: 271   Rmse: 1.9103563235786758\n",
      "------------------------------------------------------------------------------------------------------------------------------------------------------\n"
     ]
    },
    {
     "name": "stderr",
     "output_type": "stream",
     "text": [
      "\r",
      " 87%|████████████████████████████████████████████████████████████████████▍          | 13/15 [1:07:57<10:41, 320.89s/it]"
     ]
    },
    {
     "name": "stdout",
     "output_type": "stream",
     "text": [
      "\n",
      "\n",
      "learning_rate: 0.0096   max_depth: 37   num_leaves: 189   Rmse: 2.192732463239911\n",
      "------------------------------------------------------------------------------------------------------------------------------------------------------\n"
     ]
    },
    {
     "name": "stderr",
     "output_type": "stream",
     "text": [
      "\r",
      " 93%|█████████████████████████████████████████████████████████████████████████▋     | 14/15 [1:11:58<04:56, 296.74s/it]"
     ]
    },
    {
     "name": "stdout",
     "output_type": "stream",
     "text": [
      "\n",
      "\n",
      "learning_rate: 0.0162   max_depth: 169   num_leaves: 27   Rmse: 1.9658085043123974\n",
      "------------------------------------------------------------------------------------------------------------------------------------------------------\n"
     ]
    },
    {
     "name": "stderr",
     "output_type": "stream",
     "text": [
      "100%|███████████████████████████████████████████████████████████████████████████████| 15/15 [1:17:00<00:00, 308.00s/it]"
     ]
    },
    {
     "name": "stdout",
     "output_type": "stream",
     "text": [
      "\n",
      "\n",
      "learning_rate: 0.0081   max_depth: 110   num_leaves: 81   Rmse: 2.3116314428140274\n",
      "------------------------------------------------------------------------------------------------------------------------------------------------------\n"
     ]
    },
    {
     "name": "stderr",
     "output_type": "stream",
     "text": [
      "\n"
     ]
    }
   ],
   "source": [
    "for i in tqdm(range(15)):\n",
    "   learning_rate=np.round(np.random.uniform(0.001,0.05),4)\n",
    "   max_depth=np.random.randint(5,200)\n",
    "   num_leaves=np.random.randint(20,300)\n",
    "   lgb=LGBMRegressor(learning_rate=learning_rate,max_depth=max_depth,num_leaves=num_leaves,n_jobs=-1,n_estimators=100)\n",
    "   lgb.fit(x_train,y_train)\n",
    "   y_pred=lgb.predict(x_valid)\n",
    "   print(\"\\n\\nlearning_rate: {}\".format(learning_rate),\"  max_depth: {}\".format(max_depth),\"  num_leaves: {}\".format(num_leaves),\"  Rmse: {}\".format(rmse(y_pred,y_valid)))\n",
    "   print(\"-\"*150)"
   ]
  },
  {
   "cell_type": "code",
   "execution_count": 33,
   "id": "de67dd1c",
   "metadata": {},
   "outputs": [
    {
     "name": "stdout",
     "output_type": "stream",
     "text": [
      "learning_rate: 0.034   max_depth: 66   num_leaves: 224   Rmse: 1.8310158064583975\n"
     ]
    }
   ],
   "source": [
    "learning_rate=0.034 \n",
    "max_depth=66 \n",
    "num_leaves=224 \n",
    "lgb=LGBMRegressor(learning_rate=learning_rate,max_depth=max_depth,num_leaves=num_leaves,n_jobs=-1,n_estimators=100)\n",
    "lgb.fit(x_train,y_train)\n",
    "y_pred=lgb.predict(x_valid)\n",
    "print(\"learning_rate: {}\".format(learning_rate),\"  max_depth: {}\".format(max_depth),\"  num_leaves: {}\".format(num_leaves),\"  Rmse: {}\".format(rmse(y_pred,y_valid)))"
   ]
  },
  {
   "cell_type": "code",
   "execution_count": 34,
   "id": "5a1eaf38",
   "metadata": {},
   "outputs": [],
   "source": [
    "with open('LGB_model.pkl','wb') as f:\n",
    "     pickle.dump(lgb,f)"
   ]
  },
  {
   "cell_type": "code",
   "execution_count": 38,
   "id": "5046633d",
   "metadata": {},
   "outputs": [
    {
     "data": {
      "image/png": "[encoded data removed]",
      "text/plain": [
       "<Figure size 576x720 with 1 Axes>"
      ]
     },
     "metadata": {
      "needs_background": "light"
     },
     "output_type": "display_data"
    }
   ],
   "source": [
    "features=x_train.columns\n",
    "imp=lgb.feature_importances_\n",
    "indices=(np.argsort(imp))[5:]\n",
    "plt.figure(figsize=(8,10))\n",
    "plt.title('Important Features',fontsize=14)\n",
    "plt.barh(range(len(indices)),imp[indices],color='g')\n",
    "plt.yticks(range(len(indices)),[features[i] for i in indices])\n",
    "plt.xlabel('Relative Importance',fontsize=14)\n",
    "plt.show()"
   ]
  },
  {
   "cell_type": "code",
   "execution_count": 41,
   "id": "6e0deea3",
   "metadata": {},
   "outputs": [],
   "source": [
    "s1=pd.DataFrame()\n",
    "s2=pd.DataFrame()\n",
    "#test dataset(from 1914 to 1941 days) present in sales_train_evaluation only thats why sales_train_evaluation choosen\n",
    "s1['id']=df_sales['id'] \n",
    "j=1\n",
    "for i in range(1914,1942):\n",
    "  s1['F'+str(j)]=lgb.predict(x_test[x_test['day']==(i)]) \n",
    "  j+=1\n",
    "s1[\"id\"]=s1[\"id\"].apply(lambda x: x.replace('evaluation','validation'))\n",
    "s2=s1.copy()\n",
    "s2[\"id\"]=s1[\"id\"].apply(lambda x: x.replace('validation','evaluation'))\n",
    "submit_LGBM=pd.concat([s1,s2]).reset_index().drop(['index'],axis=1)"
   ]
  },
  {
   "cell_type": "code",
   "execution_count": 42,
   "id": "3175db09",
   "metadata": {},
   "outputs": [
    {
     "data": {
      "text/html": [
       "<div>\n",
       "<style scoped>\n",
       "    .dataframe tbody tr th:only-of-type {\n",
       "        vertical-align: middle;\n",
       "    }\n",
       "\n",
       "    .dataframe tbody tr th {\n",
       "        vertical-align: top;\n",
       "    }\n",
       "\n",
       "    .dataframe thead th {\n",
       "        text-align: right;\n",
       "    }\n",
       "</style>\n",
       "<table border=\"1\" class=\"dataframe\">\n",
       "  <thead>\n",
       "    <tr style=\"text-align: right;\">\n",
       "      <th></th>\n",
       "      <th>id</th>\n",
       "      <th>F1</th>\n",
       "      <th>F2</th>\n",
       "      <th>F3</th>\n",
       "      <th>F4</th>\n",
       "      <th>F5</th>\n",
       "      <th>F6</th>\n",
       "      <th>F7</th>\n",
       "      <th>F8</th>\n",
       "      <th>F9</th>\n",
       "      <th>...</th>\n",
       "      <th>F19</th>\n",
       "      <th>F20</th>\n",
       "      <th>F21</th>\n",
       "      <th>F22</th>\n",
       "      <th>F23</th>\n",
       "      <th>F24</th>\n",
       "      <th>F25</th>\n",
       "      <th>F26</th>\n",
       "      <th>F27</th>\n",
       "      <th>F28</th>\n",
       "    </tr>\n",
       "  </thead>\n",
       "  <tbody>\n",
       "    <tr>\n",
       "      <th>0</th>\n",
       "      <td>HOBBIES_1_001_CA_1_validation</td>\n",
       "      <td>1.126604</td>\n",
       "      <td>0.995363</td>\n",
       "      <td>0.614834</td>\n",
       "      <td>0.614941</td>\n",
       "      <td>0.664721</td>\n",
       "      <td>0.940508</td>\n",
       "      <td>0.934995</td>\n",
       "      <td>0.703204</td>\n",
       "      <td>0.661893</td>\n",
       "      <td>...</td>\n",
       "      <td>1.740658</td>\n",
       "      <td>2.132046</td>\n",
       "      <td>2.115631</td>\n",
       "      <td>1.046381</td>\n",
       "      <td>0.646747</td>\n",
       "      <td>0.635201</td>\n",
       "      <td>0.671481</td>\n",
       "      <td>0.908651</td>\n",
       "      <td>0.918717</td>\n",
       "      <td>0.928943</td>\n",
       "    </tr>\n",
       "    <tr>\n",
       "      <th>1</th>\n",
       "      <td>HOBBIES_1_002_CA_1_validation</td>\n",
       "      <td>0.276544</td>\n",
       "      <td>0.200038</td>\n",
       "      <td>0.163267</td>\n",
       "      <td>0.314738</td>\n",
       "      <td>0.229161</td>\n",
       "      <td>0.321649</td>\n",
       "      <td>0.297161</td>\n",
       "      <td>0.268746</td>\n",
       "      <td>0.164648</td>\n",
       "      <td>...</td>\n",
       "      <td>0.217357</td>\n",
       "      <td>0.276733</td>\n",
       "      <td>0.269549</td>\n",
       "      <td>0.243224</td>\n",
       "      <td>0.812395</td>\n",
       "      <td>0.813815</td>\n",
       "      <td>0.812395</td>\n",
       "      <td>0.824253</td>\n",
       "      <td>0.256858</td>\n",
       "      <td>0.230539</td>\n",
       "    </tr>\n",
       "    <tr>\n",
       "      <th>2</th>\n",
       "      <td>HOBBIES_1_003_CA_1_validation</td>\n",
       "      <td>0.963109</td>\n",
       "      <td>0.929192</td>\n",
       "      <td>0.934228</td>\n",
       "      <td>0.968797</td>\n",
       "      <td>0.994120</td>\n",
       "      <td>1.320046</td>\n",
       "      <td>1.265166</td>\n",
       "      <td>1.067948</td>\n",
       "      <td>1.034723</td>\n",
       "      <td>...</td>\n",
       "      <td>0.976092</td>\n",
       "      <td>0.714058</td>\n",
       "      <td>0.722603</td>\n",
       "      <td>0.516616</td>\n",
       "      <td>0.514744</td>\n",
       "      <td>0.391937</td>\n",
       "      <td>0.569048</td>\n",
       "      <td>0.591151</td>\n",
       "      <td>0.513390</td>\n",
       "      <td>0.532686</td>\n",
       "    </tr>\n",
       "    <tr>\n",
       "      <th>3</th>\n",
       "      <td>HOBBIES_1_004_CA_1_validation</td>\n",
       "      <td>1.248837</td>\n",
       "      <td>1.090351</td>\n",
       "      <td>1.105708</td>\n",
       "      <td>1.752837</td>\n",
       "      <td>1.831727</td>\n",
       "      <td>1.943957</td>\n",
       "      <td>2.140281</td>\n",
       "      <td>2.026690</td>\n",
       "      <td>1.940780</td>\n",
       "      <td>...</td>\n",
       "      <td>1.113010</td>\n",
       "      <td>1.503087</td>\n",
       "      <td>1.590902</td>\n",
       "      <td>1.267811</td>\n",
       "      <td>1.008208</td>\n",
       "      <td>1.038077</td>\n",
       "      <td>1.127957</td>\n",
       "      <td>1.188650</td>\n",
       "      <td>1.588529</td>\n",
       "      <td>2.334984</td>\n",
       "    </tr>\n",
       "    <tr>\n",
       "      <th>4</th>\n",
       "      <td>HOBBIES_1_005_CA_1_validation</td>\n",
       "      <td>1.732210</td>\n",
       "      <td>1.671026</td>\n",
       "      <td>1.739577</td>\n",
       "      <td>1.776678</td>\n",
       "      <td>1.717513</td>\n",
       "      <td>1.335772</td>\n",
       "      <td>1.813674</td>\n",
       "      <td>2.013325</td>\n",
       "      <td>1.944431</td>\n",
       "      <td>...</td>\n",
       "      <td>1.930856</td>\n",
       "      <td>2.414399</td>\n",
       "      <td>2.436942</td>\n",
       "      <td>1.955571</td>\n",
       "      <td>1.303453</td>\n",
       "      <td>1.037405</td>\n",
       "      <td>1.047265</td>\n",
       "      <td>1.120130</td>\n",
       "      <td>1.879002</td>\n",
       "      <td>1.644674</td>\n",
       "    </tr>\n",
       "  </tbody>\n",
       "</table>\n",
       "<p>5 rows × 29 columns</p>\n",
       "</div>"
      ],
      "text/plain": [
       "                              id        F1        F2        F3        F4  \\\n",
       "0  HOBBIES_1_001_CA_1_validation  1.126604  0.995363  0.614834  0.614941   \n",
       "1  HOBBIES_1_002_CA_1_validation  0.276544  0.200038  0.163267  0.314738   \n",
       "2  HOBBIES_1_003_CA_1_validation  0.963109  0.929192  0.934228  0.968797   \n",
       "3  HOBBIES_1_004_CA_1_validation  1.248837  1.090351  1.105708  1.752837   \n",
       "4  HOBBIES_1_005_CA_1_validation  1.732210  1.671026  1.739577  1.776678   \n",
       "\n",
       "         F5        F6        F7        F8        F9  ...       F19       F20  \\\n",
       "0  0.664721  0.940508  0.934995  0.703204  0.661893  ...  1.740658  2.132046   \n",
       "1  0.229161  0.321649  0.297161  0.268746  0.164648  ...  0.217357  0.276733   \n",
       "2  0.994120  1.320046  1.265166  1.067948  1.034723  ...  0.976092  0.714058   \n",
       "3  1.831727  1.943957  2.140281  2.026690  1.940780  ...  1.113010  1.503087   \n",
       "4  1.717513  1.335772  1.813674  2.013325  1.944431  ...  1.930856  2.414399   \n",
       "\n",
       "        F21       F22       F23       F24       F25       F26       F27  \\\n",
       "0  2.115631  1.046381  0.646747  0.635201  0.671481  0.908651  0.918717   \n",
       "1  0.269549  0.243224  0.812395  0.813815  0.812395  0.824253  0.256858   \n",
       "2  0.722603  0.516616  0.514744  0.391937  0.569048  0.591151  0.513390   \n",
       "3  1.590902  1.267811  1.008208  1.038077  1.127957  1.188650  1.588529   \n",
       "4  2.436942  1.955571  1.303453  1.037405  1.047265  1.120130  1.879002   \n",
       "\n",
       "        F28  \n",
       "0  0.928943  \n",
       "1  0.230539  \n",
       "2  0.532686  \n",
       "3  2.334984  \n",
       "4  1.644674  \n",
       "\n",
       "[5 rows x 29 columns]"
      ]
     },
     "execution_count": 42,
     "metadata": {},
     "output_type": "execute_result"
    }
   ],
   "source": [
    "submit_LGBM.head()"
   ]
  },
  {
   "cell_type": "code",
   "execution_count": 44,
   "id": "fd58ee60",
   "metadata": {},
   "outputs": [],
   "source": [
    "submit_LGBM.to_csv(\"submit_LGBM.csv\",index=False)"
   ]
  },
  {
   "cell_type": "markdown",
   "id": "40ba681f",
   "metadata": {},
   "source": [
    "####  Decision Trees "
   ]
  },
  {
   "cell_type": "code",
   "execution_count": null,
   "id": "eb63f5ad",
   "metadata": {
    "scrolled": true
   },
   "outputs": [],
   "source": []
  },
  {
   "cell_type": "code",
   "execution_count": 10,
   "id": "19a13b2d",
   "metadata": {},
   "outputs": [
    {
     "name": "stderr",
     "output_type": "stream",
     "text": [
      " 10%|████████                                                                        | 1/10 [07:02<1:03:26, 422.90s/it]"
     ]
    },
    {
     "name": "stdout",
     "output_type": "stream",
     "text": [
      "\n",
      "\n",
      "max_depth: 19   min_samples_split: 211   min_samples_leaf: 307   Rmse: 1.872287252717861\n",
      "------------------------------------------------------------------------------------------------------------------------------------------------------\n"
     ]
    },
    {
     "name": "stderr",
     "output_type": "stream",
     "text": [
      "\r",
      " 20%|████████████████▍                                                                 | 2/10 [14:36<58:48, 441.04s/it]"
     ]
    },
    {
     "name": "stdout",
     "output_type": "stream",
     "text": [
      "\n",
      "\n",
      "max_depth: 157   min_samples_split: 423   min_samples_leaf: 436   Rmse: 1.8730641187489037\n",
      "------------------------------------------------------------------------------------------------------------------------------------------------------\n"
     ]
    },
    {
     "name": "stderr",
     "output_type": "stream",
     "text": [
      "\r",
      " 30%|████████████████████████▌                                                         | 3/10 [21:47<50:54, 436.33s/it]"
     ]
    },
    {
     "name": "stdout",
     "output_type": "stream",
     "text": [
      "\n",
      "\n",
      "max_depth: 106   min_samples_split: 95   min_samples_leaf: 464   Rmse: 1.8778836406942812\n",
      "------------------------------------------------------------------------------------------------------------------------------------------------------\n"
     ]
    },
    {
     "name": "stderr",
     "output_type": "stream",
     "text": [
      "\r",
      " 40%|████████████████████████████████▊                                                 | 4/10 [29:29<44:40, 446.71s/it]"
     ]
    },
    {
     "name": "stdout",
     "output_type": "stream",
     "text": [
      "\n",
      "\n",
      "max_depth: 157   min_samples_split: 107   min_samples_leaf: 437   Rmse: 1.8777154959722093\n",
      "------------------------------------------------------------------------------------------------------------------------------------------------------\n"
     ]
    },
    {
     "name": "stderr",
     "output_type": "stream",
     "text": [
      "\r",
      " 50%|█████████████████████████████████████████                                         | 5/10 [37:11<37:40, 452.11s/it]"
     ]
    },
    {
     "name": "stdout",
     "output_type": "stream",
     "text": [
      "\n",
      "\n",
      "max_depth: 104   min_samples_split: 515   min_samples_leaf: 443   Rmse: 1.869486389259562\n",
      "------------------------------------------------------------------------------------------------------------------------------------------------------\n"
     ]
    },
    {
     "name": "stderr",
     "output_type": "stream",
     "text": [
      "\r",
      " 60%|█████████████████████████████████████████████████▏                                | 6/10 [43:41<28:44, 431.04s/it]"
     ]
    },
    {
     "name": "stdout",
     "output_type": "stream",
     "text": [
      "\n",
      "\n",
      "max_depth: 138   min_samples_split: 192   min_samples_leaf: 220   Rmse: 1.8740304424517094\n",
      "------------------------------------------------------------------------------------------------------------------------------------------------------\n"
     ]
    },
    {
     "name": "stderr",
     "output_type": "stream",
     "text": [
      "\r",
      " 70%|█████████████████████████████████████████████████████████▍                        | 7/10 [50:10<20:51, 417.28s/it]"
     ]
    },
    {
     "name": "stdout",
     "output_type": "stream",
     "text": [
      "\n",
      "\n",
      "max_depth: 87   min_samples_split: 109   min_samples_leaf: 221   Rmse: 1.8775095854435742\n",
      "------------------------------------------------------------------------------------------------------------------------------------------------------\n"
     ]
    },
    {
     "name": "stderr",
     "output_type": "stream",
     "text": [
      "\r",
      " 80%|█████████████████████████████████████████████████████████████████▌                | 8/10 [56:41<13:37, 408.70s/it]"
     ]
    },
    {
     "name": "stdout",
     "output_type": "stream",
     "text": [
      "\n",
      "\n",
      "max_depth: 53   min_samples_split: 54   min_samples_leaf: 222   Rmse: 1.8800247816274438\n",
      "------------------------------------------------------------------------------------------------------------------------------------------------------\n"
     ]
    },
    {
     "name": "stderr",
     "output_type": "stream",
     "text": [
      "\r",
      " 90%|████████████████████████████████████████████████████████████████████████        | 9/10 [1:03:08<06:42, 402.03s/it]"
     ]
    },
    {
     "name": "stdout",
     "output_type": "stream",
     "text": [
      "\n",
      "\n",
      "max_depth: 95   min_samples_split: 520   min_samples_leaf: 168   Rmse: 1.8763586400750916\n",
      "------------------------------------------------------------------------------------------------------------------------------------------------------\n"
     ]
    },
    {
     "name": "stderr",
     "output_type": "stream",
     "text": [
      "100%|███████████████████████████████████████████████████████████████████████████████| 10/10 [1:09:41<00:00, 418.12s/it]"
     ]
    },
    {
     "name": "stdout",
     "output_type": "stream",
     "text": [
      "\n",
      "\n",
      "max_depth: 168   min_samples_split: 118   min_samples_leaf: 295   Rmse: 1.875206966850191\n",
      "------------------------------------------------------------------------------------------------------------------------------------------------------\n"
     ]
    },
    {
     "name": "stderr",
     "output_type": "stream",
     "text": [
      "\n"
     ]
    }
   ],
   "source": [
    "for i in tqdm(range(10)): \n",
    "  max_depth=random.randint(1,200)\n",
    "  min_samples_split=random.randint(10,600)\n",
    "  min_samples_leaf=random.randint(20,500)\n",
    "  dt=DecisionTreeRegressor(max_depth=max_depth,min_samples_split=min_samples_split,max_leaf_nodes=min_samples_leaf)\n",
    "  dt.fit(x_train,y_train)\n",
    "  y_pred=dt.predict(x_valid)\n",
    "  print(\"\\n\\nmax_depth: {}\".format(max_depth),\"  min_samples_split: {}\".format(min_samples_split),\"  min_samples_leaf: {}\".format(min_samples_leaf),\"  Rmse: {}\".format(rmse(y_pred,y_valid)))\n",
    "  print(\"-\"*150)"
   ]
  },
  {
   "cell_type": "code",
   "execution_count": 11,
   "id": "00f2a9f6",
   "metadata": {},
   "outputs": [
    {
     "name": "stdout",
     "output_type": "stream",
     "text": [
      "max_depth: 104   min_samples_split: 278   min_samples_leaf: 344   Rmse: 1.8667355819894134\n"
     ]
    }
   ],
   "source": [
    "max_depth=104\n",
    "min_samples_split=278\n",
    "min_samples_leaf=344 \n",
    "dt=DecisionTreeRegressor(max_depth=max_depth,min_samples_split=min_samples_split,max_leaf_nodes=min_samples_leaf)\n",
    "dt.fit(x_train,y_train)\n",
    "y_pred=dt.predict(x_valid)\n",
    "print(\"max_depth: {}\".format(max_depth),\"  min_samples_split: {}\".format(min_samples_split),\"  min_samples_leaf: {}\".format(min_samples_leaf),\"  Rmse: {}\".format(rmse(y_pred,y_valid)))"
   ]
  },
  {
   "cell_type": "code",
   "execution_count": 12,
   "id": "8114c4b9",
   "metadata": {},
   "outputs": [],
   "source": [
    "with open('decision_tree_model.pkl','wb') as f:\n",
    "     pickle.dump(dt,f)"
   ]
  },
  {
   "cell_type": "code",
   "execution_count": 13,
   "id": "61bead09",
   "metadata": {},
   "outputs": [
    {
     "data": {
      "image/png": "[encoded data removed]",
      "text/plain": [
       "<Figure size 576x720 with 1 Axes>"
      ]
     },
     "metadata": {
      "needs_background": "light"
     },
     "output_type": "display_data"
    }
   ],
   "source": [
    "features=x_train.columns\n",
    "imp=dt.feature_importances_\n",
    "indices=(np.argsort(imp))[20:]\n",
    "plt.figure(figsize=(8,10))\n",
    "plt.title('Feature Importance',fontsize=14)\n",
    "plt.barh(range(len(indices)),imp[indices],color='r')\n",
    "plt.yticks(range(len(indices)),[features[i] for i in indices])\n",
    "plt.xlabel('Relative Importance',fontsize=14)\n",
    "plt.show()"
   ]
  },
  {
   "cell_type": "code",
   "execution_count": 16,
   "id": "f21ee355",
   "metadata": {},
   "outputs": [],
   "source": [
    "s1=pd.DataFrame()\n",
    "s2=pd.DataFrame()\n",
    "#test dataset(from 1914 to 1941 days) present in sales_train_evaluation only thats why sales_train_evaluation choosen\n",
    "s1['id']=df_sales['id'] \n",
    "j=1\n",
    "for i in range(1914,1942):\n",
    "  s1['F'+str(j)]=dt.predict(x_test[x_test['day']==(i)]) \n",
    "  j+=1\n",
    "s1[\"id\"]=s1[\"id\"].apply(lambda x: x.replace('evaluation','validation'))\n",
    "s2=s1.copy()\n",
    "s2[\"id\"]=s1[\"id\"].apply(lambda x: x.replace('validation','evaluation'))\n",
    "submit_DecisionTree=pd.concat([s1,s2]).reset_index().drop(['index'],axis=1)"
   ]
  },
  {
   "cell_type": "code",
   "execution_count": 18,
   "id": "2a6e6fb4",
   "metadata": {},
   "outputs": [],
   "source": [
    "submit_DecisionTree.to_csv(\"submit_DecisionTree.csv\",index=False)"
   ]
  },
  {
   "cell_type": "markdown",
   "id": "55a49d3a",
   "metadata": {},
   "source": [
    "### Models RMSE Score Comparism "
   ]
  },
  {
   "cell_type": "markdown",
   "id": "f6b040c3",
   "metadata": {},
   "source": [
    "* Moving Average : 3.28\n",
    "* Linear Regression :1.88\n",
    "* Decision Tree : 1.86\n",
    "* LGBM : 1.83"
   ]
  },
  {
   "cell_type": "code",
   "execution_count": null,
   "id": "4e45f788",
   "metadata": {},
   "outputs": [],
   "source": []
  }
 ],
 "metadata": {
  "kernelspec": {
   "display_name": "Python 3 (ipykernel)",
   "language": "python",
   "name": "python3"
  },
  "language_info": {
   "codemirror_mode": {
    "name": "ipython",
    "version": 3
   },
   "file_extension": ".py",
   "mimetype": "text/x-python",
   "name": "python",
   "nbconvert_exporter": "python",
   "pygments_lexer": "ipython3",
   "version": "3.9.7"
  }
 },
 "nbformat": 4,
 "nbformat_minor": 5
}
