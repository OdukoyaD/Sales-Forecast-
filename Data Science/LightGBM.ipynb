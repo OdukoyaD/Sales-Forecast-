{
 "cells": [
  {
   "cell_type": "code",
   "execution_count": 1,
   "id": "65101e64",
   "metadata": {},
   "outputs": [
    {
     "name": "stdout",
     "output_type": "stream",
     "text": [
      "Collecting downcast\n",
      "  Using cached downcast-0.0.8-py3-none-any.whl (3.3 kB)\n",
      "Installing collected packages: downcast\n",
      "Successfully installed downcast-0.0.8\n",
      "Note: you may need to restart the kernel to use updated packages.\n"
     ]
    },
    {
     "name": "stderr",
     "output_type": "stream",
     "text": [
      "WARNING: You are using pip version 22.0.4; however, version 22.2.2 is available.\n",
      "You should consider upgrading via the 'C:\\Users\\Lenovo\\AppData\\Local\\Microsoft\\WindowsApps\\PythonSoftwareFoundation.Python.3.9_qbz5n2kfra8p0\\python.exe -m pip install --upgrade pip' command.\n"
     ]
    }
   ],
   "source": [
    "pip install downcast\n"
   ]
  },
  {
   "cell_type": "code",
   "execution_count": 2,
   "id": "b4a0c8bd",
   "metadata": {},
   "outputs": [
    {
     "name": "stdout",
     "output_type": "stream",
     "text": [
      "Collecting lightgbm\n",
      "  Downloading lightgbm-3.3.3-py3-none-win_amd64.whl (1.0 MB)\n",
      "     ---------------------------------------- 1.0/1.0 MB 2.7 MB/s eta 0:00:00\n",
      "Collecting wheel\n",
      "  Using cached wheel-0.37.1-py2.py3-none-any.whl (35 kB)\n",
      "Collecting scikit-learn!=0.22.0\n",
      "  Downloading scikit_learn-1.1.2-cp39-cp39-win_amd64.whl (7.4 MB)\n",
      "     ---------------------------------------- 7.4/7.4 MB 4.3 MB/s eta 0:00:00\n",
      "Requirement already satisfied: numpy in c:\\users\\lenovo\\appdata\\local\\packages\\pythonsoftwarefoundation.python.3.9_qbz5n2kfra8p0\\localcache\\local-packages\\python39\\site-packages (from lightgbm) (1.23.3)\n",
      "Requirement already satisfied: scipy in c:\\users\\lenovo\\appdata\\local\\packages\\pythonsoftwarefoundation.python.3.9_qbz5n2kfra8p0\\localcache\\local-packages\\python39\\site-packages (from lightgbm) (1.9.1)\n",
      "Collecting threadpoolctl>=2.0.0\n",
      "  Using cached threadpoolctl-3.1.0-py3-none-any.whl (14 kB)\n",
      "Requirement already satisfied: joblib>=1.0.0 in c:\\users\\lenovo\\appdata\\local\\packages\\pythonsoftwarefoundation.python.3.9_qbz5n2kfra8p0\\localcache\\local-packages\\python39\\site-packages (from scikit-learn!=0.22.0->lightgbm) (1.2.0)\n",
      "Installing collected packages: wheel, threadpoolctl, scikit-learn, lightgbm\n",
      "Successfully installed lightgbm-3.3.3 scikit-learn-1.1.2 threadpoolctl-3.1.0 wheel-0.37.1\n"
     ]
    },
    {
     "name": "stderr",
     "output_type": "stream",
     "text": [
      "  WARNING: The script wheel.exe is installed in 'C:\\Users\\Lenovo\\AppData\\Local\\Packages\\PythonSoftwareFoundation.Python.3.9_qbz5n2kfra8p0\\LocalCache\\local-packages\\Python39\\Scripts' which is not on PATH.\n",
      "  Consider adding this directory to PATH or, if you prefer to suppress this warning, use --no-warn-script-location.\n",
      "WARNING: You are using pip version 22.0.4; however, version 22.2.2 is available.\n",
      "You should consider upgrading via the 'C:\\Users\\Lenovo\\AppData\\Local\\Microsoft\\WindowsApps\\PythonSoftwareFoundation.Python.3.9_qbz5n2kfra8p0\\python.exe -m pip install --upgrade pip' command.\n"
     ]
    }
   ],
   "source": [
    "!pip install lightgbm"
   ]
  },
  {
   "cell_type": "code",
   "execution_count": 5,
   "id": "d0229ca2",
   "metadata": {},
   "outputs": [
    {
     "name": "stdout",
     "output_type": "stream",
     "text": [
      "Collecting pandas\n",
      "  Downloading pandas-1.5.0-cp39-cp39-win_amd64.whl (10.9 MB)\n",
      "     ---------------------------------------- 10.9/10.9 MB 3.0 MB/s eta 0:00:00\n",
      "Requirement already satisfied: numpy>=1.20.3 in c:\\users\\lenovo\\appdata\\local\\packages\\pythonsoftwarefoundation.python.3.9_qbz5n2kfra8p0\\localcache\\local-packages\\python39\\site-packages (from pandas) (1.23.3)\n",
      "Collecting pytz>=2020.1\n",
      "  Downloading pytz-2022.4-py2.py3-none-any.whl (500 kB)\n",
      "     -------------------------------------- 500.8/500.8 KB 5.2 MB/s eta 0:00:00\n",
      "Requirement already satisfied: python-dateutil>=2.8.1 in c:\\users\\lenovo\\appdata\\local\\packages\\pythonsoftwarefoundation.python.3.9_qbz5n2kfra8p0\\localcache\\local-packages\\python39\\site-packages (from pandas) (2.8.2)\n",
      "Requirement already satisfied: six>=1.5 in c:\\users\\lenovo\\appdata\\local\\packages\\pythonsoftwarefoundation.python.3.9_qbz5n2kfra8p0\\localcache\\local-packages\\python39\\site-packages (from python-dateutil>=2.8.1->pandas) (1.16.0)\n",
      "Installing collected packages: pytz, pandas\n",
      "Successfully installed pandas-1.5.0 pytz-2022.4\n",
      "Note: you may need to restart the kernel to use updated packages.\n"
     ]
    },
    {
     "name": "stderr",
     "output_type": "stream",
     "text": [
      "WARNING: You are using pip version 22.0.4; however, version 22.2.2 is available.\n",
      "You should consider upgrading via the 'C:\\Users\\Lenovo\\AppData\\Local\\Microsoft\\WindowsApps\\PythonSoftwareFoundation.Python.3.9_qbz5n2kfra8p0\\python.exe -m pip install --upgrade pip' command.\n"
     ]
    }
   ],
   "source": [
    "pip install pandas"
   ]
  },
  {
   "cell_type": "code",
   "execution_count": 7,
   "id": "56c004e8",
   "metadata": {},
   "outputs": [
    {
     "name": "stdout",
     "output_type": "stream",
     "text": [
      "Collecting matplotlib\n",
      "  Downloading matplotlib-3.6.1-cp39-cp39-win_amd64.whl (7.2 MB)\n",
      "     ---------------------------------------- 7.2/7.2 MB 4.4 MB/s eta 0:00:00\n",
      "Collecting kiwisolver>=1.0.1\n",
      "  Downloading kiwisolver-1.4.4-cp39-cp39-win_amd64.whl (55 kB)\n",
      "     ---------------------------------------- 55.4/55.4 KB 3.0 MB/s eta 0:00:00\n",
      "Requirement already satisfied: pyparsing>=2.2.1 in c:\\users\\lenovo\\appdata\\local\\packages\\pythonsoftwarefoundation.python.3.9_qbz5n2kfra8p0\\localcache\\local-packages\\python39\\site-packages (from matplotlib) (3.0.9)\n",
      "Collecting fonttools>=4.22.0\n",
      "  Downloading fonttools-4.37.4-py3-none-any.whl (960 kB)\n",
      "     -------------------------------------- 960.8/960.8 KB 7.6 MB/s eta 0:00:00\n",
      "Collecting contourpy>=1.0.1\n",
      "  Downloading contourpy-1.0.5-cp39-cp39-win_amd64.whl (161 kB)\n",
      "     -------------------------------------- 162.0/162.0 KB 3.2 MB/s eta 0:00:00\n",
      "Collecting pillow>=6.2.0\n",
      "  Downloading Pillow-9.2.0-cp39-cp39-win_amd64.whl (3.3 MB)\n",
      "     ---------------------------------------- 3.3/3.3 MB 4.5 MB/s eta 0:00:00\n",
      "Collecting cycler>=0.10\n",
      "  Downloading cycler-0.11.0-py3-none-any.whl (6.4 kB)\n",
      "Requirement already satisfied: numpy>=1.19 in c:\\users\\lenovo\\appdata\\local\\packages\\pythonsoftwarefoundation.python.3.9_qbz5n2kfra8p0\\localcache\\local-packages\\python39\\site-packages (from matplotlib) (1.23.3)\n",
      "Requirement already satisfied: python-dateutil>=2.7 in c:\\users\\lenovo\\appdata\\local\\packages\\pythonsoftwarefoundation.python.3.9_qbz5n2kfra8p0\\localcache\\local-packages\\python39\\site-packages (from matplotlib) (2.8.2)\n",
      "Requirement already satisfied: packaging>=20.0 in c:\\users\\lenovo\\appdata\\local\\packages\\pythonsoftwarefoundation.python.3.9_qbz5n2kfra8p0\\localcache\\local-packages\\python39\\site-packages (from matplotlib) (21.3)\n",
      "Requirement already satisfied: six>=1.5 in c:\\users\\lenovo\\appdata\\local\\packages\\pythonsoftwarefoundation.python.3.9_qbz5n2kfra8p0\\localcache\\local-packages\\python39\\site-packages (from python-dateutil>=2.7->matplotlib) (1.16.0)\n",
      "Installing collected packages: pillow, kiwisolver, fonttools, cycler, contourpy, matplotlib\n",
      "Successfully installed contourpy-1.0.5 cycler-0.11.0 fonttools-4.37.4 kiwisolver-1.4.4 matplotlib-3.6.1 pillow-9.2.0\n",
      "Note: you may need to restart the kernel to use updated packages.\n"
     ]
    },
    {
     "name": "stderr",
     "output_type": "stream",
     "text": [
      "  WARNING: The scripts fonttools.exe, pyftmerge.exe, pyftsubset.exe and ttx.exe are installed in 'C:\\Users\\Lenovo\\AppData\\Local\\Packages\\PythonSoftwareFoundation.Python.3.9_qbz5n2kfra8p0\\LocalCache\\local-packages\\Python39\\Scripts' which is not on PATH.\n",
      "  Consider adding this directory to PATH or, if you prefer to suppress this warning, use --no-warn-script-location.\n",
      "WARNING: You are using pip version 22.0.4; however, version 22.2.2 is available.\n",
      "You should consider upgrading via the 'C:\\Users\\Lenovo\\AppData\\Local\\Microsoft\\WindowsApps\\PythonSoftwareFoundation.Python.3.9_qbz5n2kfra8p0\\python.exe -m pip install --upgrade pip' command.\n"
     ]
    }
   ],
   "source": [
    "pip install matplotlib"
   ]
  },
  {
   "cell_type": "code",
   "execution_count": 11,
   "id": "a519c159",
   "metadata": {},
   "outputs": [
    {
     "name": "stdout",
     "output_type": "stream",
     "text": [
      "Collecting seaborn\n",
      "  Downloading seaborn-0.12.0-py3-none-any.whl (285 kB)\n",
      "     -------------------------------------- 285.1/285.1 KB 1.2 MB/s eta 0:00:00\n",
      "Requirement already satisfied: matplotlib>=3.1 in c:\\users\\lenovo\\appdata\\local\\packages\\pythonsoftwarefoundation.python.3.9_qbz5n2kfra8p0\\localcache\\local-packages\\python39\\site-packages (from seaborn) (3.6.1)\n",
      "Requirement already satisfied: pandas>=0.25 in c:\\users\\lenovo\\appdata\\local\\packages\\pythonsoftwarefoundation.python.3.9_qbz5n2kfra8p0\\localcache\\local-packages\\python39\\site-packages (from seaborn) (1.5.0)\n",
      "Requirement already satisfied: numpy>=1.17 in c:\\users\\lenovo\\appdata\\local\\packages\\pythonsoftwarefoundation.python.3.9_qbz5n2kfra8p0\\localcache\\local-packages\\python39\\site-packages (from seaborn) (1.23.3)\n",
      "Requirement already satisfied: pyparsing>=2.2.1 in c:\\users\\lenovo\\appdata\\local\\packages\\pythonsoftwarefoundation.python.3.9_qbz5n2kfra8p0\\localcache\\local-packages\\python39\\site-packages (from matplotlib>=3.1->seaborn) (3.0.9)\n",
      "Requirement already satisfied: fonttools>=4.22.0 in c:\\users\\lenovo\\appdata\\local\\packages\\pythonsoftwarefoundation.python.3.9_qbz5n2kfra8p0\\localcache\\local-packages\\python39\\site-packages (from matplotlib>=3.1->seaborn) (4.37.4)\n",
      "Requirement already satisfied: cycler>=0.10 in c:\\users\\lenovo\\appdata\\local\\packages\\pythonsoftwarefoundation.python.3.9_qbz5n2kfra8p0\\localcache\\local-packages\\python39\\site-packages (from matplotlib>=3.1->seaborn) (0.11.0)\n",
      "Requirement already satisfied: packaging>=20.0 in c:\\users\\lenovo\\appdata\\local\\packages\\pythonsoftwarefoundation.python.3.9_qbz5n2kfra8p0\\localcache\\local-packages\\python39\\site-packages (from matplotlib>=3.1->seaborn) (21.3)\n",
      "Requirement already satisfied: kiwisolver>=1.0.1 in c:\\users\\lenovo\\appdata\\local\\packages\\pythonsoftwarefoundation.python.3.9_qbz5n2kfra8p0\\localcache\\local-packages\\python39\\site-packages (from matplotlib>=3.1->seaborn) (1.4.4)\n",
      "Requirement already satisfied: python-dateutil>=2.7 in c:\\users\\lenovo\\appdata\\local\\packages\\pythonsoftwarefoundation.python.3.9_qbz5n2kfra8p0\\localcache\\local-packages\\python39\\site-packages (from matplotlib>=3.1->seaborn) (2.8.2)\n",
      "Requirement already satisfied: pillow>=6.2.0 in c:\\users\\lenovo\\appdata\\local\\packages\\pythonsoftwarefoundation.python.3.9_qbz5n2kfra8p0\\localcache\\local-packages\\python39\\site-packages (from matplotlib>=3.1->seaborn) (9.2.0)\n",
      "Requirement already satisfied: contourpy>=1.0.1 in c:\\users\\lenovo\\appdata\\local\\packages\\pythonsoftwarefoundation.python.3.9_qbz5n2kfra8p0\\localcache\\local-packages\\python39\\site-packages (from matplotlib>=3.1->seaborn) (1.0.5)\n",
      "Requirement already satisfied: pytz>=2020.1 in c:\\users\\lenovo\\appdata\\local\\packages\\pythonsoftwarefoundation.python.3.9_qbz5n2kfra8p0\\localcache\\local-packages\\python39\\site-packages (from pandas>=0.25->seaborn) (2022.4)\n",
      "Requirement already satisfied: six>=1.5 in c:\\users\\lenovo\\appdata\\local\\packages\\pythonsoftwarefoundation.python.3.9_qbz5n2kfra8p0\\localcache\\local-packages\\python39\\site-packages (from python-dateutil>=2.7->matplotlib>=3.1->seaborn) (1.16.0)\n",
      "Installing collected packages: seaborn\n",
      "Successfully installed seaborn-0.12.0\n",
      "Note: you may need to restart the kernel to use updated packages.\n"
     ]
    },
    {
     "name": "stderr",
     "output_type": "stream",
     "text": [
      "WARNING: You are using pip version 22.0.4; however, version 22.2.2 is available.\n",
      "You should consider upgrading via the 'C:\\Users\\Lenovo\\AppData\\Local\\Microsoft\\WindowsApps\\PythonSoftwareFoundation.Python.3.9_qbz5n2kfra8p0\\python.exe -m pip install --upgrade pip' command.\n"
     ]
    }
   ],
   "source": [
    "pip install seaborn"
   ]
  },
  {
   "cell_type": "code",
   "execution_count": 12,
   "id": "7a5ee86d",
   "metadata": {},
   "outputs": [
    {
     "name": "stdout",
     "output_type": "stream",
     "text": [
      "Collecting plotly\n",
      "  Downloading plotly-5.10.0-py2.py3-none-any.whl (15.2 MB)\n",
      "     ---------------------------------------- 15.2/15.2 MB 2.2 MB/s eta 0:00:00\n",
      "Collecting tenacity>=6.2.0\n",
      "  Downloading tenacity-8.1.0-py3-none-any.whl (23 kB)\n",
      "Installing collected packages: tenacity, plotly\n",
      "Successfully installed plotly-5.10.0 tenacity-8.1.0\n",
      "Note: you may need to restart the kernel to use updated packages.\n"
     ]
    },
    {
     "name": "stderr",
     "output_type": "stream",
     "text": [
      "WARNING: You are using pip version 22.0.4; however, version 22.2.2 is available.\n",
      "You should consider upgrading via the 'C:\\Users\\Lenovo\\AppData\\Local\\Microsoft\\WindowsApps\\PythonSoftwareFoundation.Python.3.9_qbz5n2kfra8p0\\python.exe -m pip install --upgrade pip' command.\n"
     ]
    }
   ],
   "source": [
    "pip install plotly"
   ]
  },
  {
   "cell_type": "code",
   "execution_count": 14,
   "id": "bb8a00a5",
   "metadata": {},
   "outputs": [
    {
     "name": "stdout",
     "output_type": "stream",
     "text": [
      "Collecting tqdm\n",
      "  Downloading tqdm-4.64.1-py2.py3-none-any.whl (78 kB)\n",
      "     -------------------------------------- 78.5/78.5 KB 725.8 kB/s eta 0:00:00\n",
      "Requirement already satisfied: colorama in c:\\users\\lenovo\\appdata\\local\\packages\\pythonsoftwarefoundation.python.3.9_qbz5n2kfra8p0\\localcache\\local-packages\\python39\\site-packages (from tqdm) (0.4.5)\n",
      "Installing collected packages: tqdm\n",
      "Successfully installed tqdm-4.64.1\n",
      "Note: you may need to restart the kernel to use updated packages.\n"
     ]
    },
    {
     "name": "stderr",
     "output_type": "stream",
     "text": [
      "  WARNING: The script tqdm.exe is installed in 'C:\\Users\\Lenovo\\AppData\\Local\\Packages\\PythonSoftwareFoundation.Python.3.9_qbz5n2kfra8p0\\LocalCache\\local-packages\\Python39\\Scripts' which is not on PATH.\n",
      "  Consider adding this directory to PATH or, if you prefer to suppress this warning, use --no-warn-script-location.\n",
      "WARNING: You are using pip version 22.0.4; however, version 22.2.2 is available.\n",
      "You should consider upgrading via the 'C:\\Users\\Lenovo\\AppData\\Local\\Microsoft\\WindowsApps\\PythonSoftwareFoundation.Python.3.9_qbz5n2kfra8p0\\python.exe -m pip install --upgrade pip' command.\n"
     ]
    }
   ],
   "source": [
    "pip install tqdm"
   ]
  },
  {
   "cell_type": "code",
   "execution_count": 2,
   "id": "d6f194e5",
   "metadata": {},
   "outputs": [],
   "source": [
    "import pandas as pd\n",
    "import pickle\n",
    "import numpy as np\n",
    "from downcast import reduce\n",
    "from matplotlib import pyplot as plt\n",
    "import seaborn as sns\n",
    "import plotly.express as px\n",
    "from tqdm import tqdm\n",
    "from sklearn.linear_model import LinearRegression\n",
    "import warnings\n",
    "warnings.filterwarnings(\"ignore\")\n",
    "import random \n",
    "#from xgboost import XGBRegressor\n",
    "#from sklearn.tree import DecisionTreeRegressor\n",
    "from sklearn.linear_model import ElasticNet\n",
    "from lightgbm import LGBMRegressor\n",
    "#from catboost import CatBoostRegressor\n",
    "from sklearn.ensemble import RandomForestRegressor\n",
    "import warnings\n",
    "warnings.filterwarnings(\"ignore\")"
   ]
  },
  {
   "cell_type": "code",
   "execution_count": 3,
   "id": "ae512886",
   "metadata": {},
   "outputs": [],
   "source": [
    "def rmse(pred,value):\n",
    "    return np.sqrt(((pred-value)**2).mean())"
   ]
  },
  {
   "cell_type": "code",
   "execution_count": 4,
   "id": "48bf859f",
   "metadata": {},
   "outputs": [],
   "source": [
    "calendar_=pd.read_csv(r\"\\Users\\Lenovo\\Downloads\\coursework_docs\\Team_26_Developing_an_opinionated_sales_forecasting_MVP\\calendar.csv\")\n",
    "sales_train_eval=pd.read_csv(r\"\\Users\\Lenovo\\Downloads\\coursework_docs\\Team_26_Developing_an_opinionated_sales_forecasting_MVP\\sales_train_evaluation.csv\")\n",
    "sell_prices_=pd.read_csv(r\"\\Users\\Lenovo\\Downloads\\coursework_docs\\Team_26_Developing_an_opinionated_sales_forecasting_MVP\\sell_prices.csv\")"
   ]
  },
  {
   "cell_type": "markdown",
   "id": "980a01c9",
   "metadata": {},
   "source": [
    "### ML Models"
   ]
  },
  {
   "cell_type": "code",
   "execution_count": 5,
   "id": "e9364b93",
   "metadata": {},
   "outputs": [],
   "source": [
    "with open('C:/Users/Lenovo/Downloads/coursework_docs/Team_26_Developing_an_opinionated_sales_forecasting_MVP/data_final.pkl','rb') as f:\n",
    "     data_final=pickle.load(f)"
   ]
  },
  {
   "cell_type": "code",
   "execution_count": 6,
   "id": "07fceff5",
   "metadata": {},
   "outputs": [
    {
     "data": {
      "text/plain": [
       "(59181090, 36)"
      ]
     },
     "execution_count": 6,
     "metadata": {},
     "output_type": "execute_result"
    }
   ],
   "source": [
    "data_final.shape"
   ]
  },
  {
   "cell_type": "code",
   "execution_count": 7,
   "id": "90eba34e",
   "metadata": {},
   "outputs": [],
   "source": [
    "df=data_final[data_final['day']>1000]"
   ]
  },
  {
   "cell_type": "code",
   "execution_count": 9,
   "id": "b9cf9f64",
   "metadata": {},
   "outputs": [
    {
     "data": {
      "text/plain": [
       "(28691090, 36)"
      ]
     },
     "execution_count": 9,
     "metadata": {},
     "output_type": "execute_result"
    }
   ],
   "source": [
    "df.shape"
   ]
  },
  {
   "cell_type": "code",
   "execution_count": 10,
   "id": "97957d05",
   "metadata": {},
   "outputs": [
    {
     "name": "stdout",
     "output_type": "stream",
     "text": [
      "x_train (26983650, 35)   y_train (26983650,)\n",
      "\n",
      "x_valid (853720, 35)   y_valid (853720,)\n",
      "\n",
      "x_test (853720, 35)   y_test (853720,)\n"
     ]
    }
   ],
   "source": [
    "l=[]\n",
    "for i in range(1886,1914):\n",
    "  l.append(i)\n",
    "\n",
    "#https://www.kite.com/python/answers/how-to-select-rows-by-multiple-label-conditions-with-pandas-loc-in-python\n",
    "x_train=df.loc[df['day']<=1885]\n",
    "x_valid=df.loc[df['day'].isin(l)]\n",
    "x_test=df.loc[df['day']>=1914]\n",
    "\n",
    "y_train=x_train['demand']\n",
    "y_valid=x_valid['demand']\n",
    "y_test=x_test['demand']\n",
    "\n",
    "x_train=x_train.drop(['demand'],axis=1)\n",
    "x_valid=x_valid.drop(['demand'],axis=1)\n",
    "x_test=x_test.drop(['demand'],axis=1)\n",
    "\n",
    "print(\"x_train {}\".format(x_train.shape),\"  y_train {}\".format(y_train.shape))\n",
    "print(\"\\nx_valid {}\".format(x_valid.shape),\"  y_valid {}\".format(y_valid.shape))\n",
    "print(\"\\nx_test {}\".format(x_test.shape),\"  y_test {}\".format(y_test.shape))"
   ]
  },
  {
   "cell_type": "markdown",
   "id": "29e82e8d",
   "metadata": {},
   "source": [
    "Quantile regression  will allow us to create a model that estimates the values ​​of the target variable (quantiles) at the given quantiles, in our case quantiles = (.5, .67, .95, .99). Knowing the values ​​of the objective variable within these quantiles will allow us to estimate the distribution of the objective variable. as such we will be able to evaluate the uncertainty of the estimate.\n",
    "\n",
    "The difference between the common regression and quantile regression is the loss function."
   ]
  },
  {
   "cell_type": "markdown",
   "id": "28ee9e75",
   "metadata": {},
   "source": [
    "### Implementing quantile regression in LightGBM"
   ]
  },
  {
   "cell_type": "markdown",
   "id": "a136278d",
   "metadata": {},
   "source": [
    "1.specify quantile for objective and quantile for alpha to get quantile regression\n",
    "2.build a model for each quantile."
   ]
  },
  {
   "cell_type": "code",
   "execution_count": 24,
   "id": "6f63768b",
   "metadata": {},
   "outputs": [
    {
     "name": "stdout",
     "output_type": "stream",
     "text": [
      "\n",
      "----<quantile point 0.5>----\n",
      "[20]\tvalid_0's quantile: 0.414875\n",
      "[40]\tvalid_0's quantile: 0.39549\n",
      "[60]\tvalid_0's quantile: 0.390958\n",
      "[80]\tvalid_0's quantile: 0.388701\n",
      "\n",
      "----<quantile point 0.67>----\n",
      "[20]\tvalid_0's quantile: 0.441026\n",
      "[40]\tvalid_0's quantile: 0.422409\n",
      "[60]\tvalid_0's quantile: 0.418447\n",
      "[80]\tvalid_0's quantile: 0.417538\n",
      "[100]\tvalid_0's quantile: 0.416795\n",
      "[120]\tvalid_0's quantile: 0.416619\n",
      "[140]\tvalid_0's quantile: 0.416607\n",
      "[160]\tvalid_0's quantile: 0.416605\n",
      "[180]\tvalid_0's quantile: 0.416605\n",
      "[200]\tvalid_0's quantile: 0.416605\n",
      "\n",
      "----<quantile point 0.95>----\n",
      "[20]\tvalid_0's quantile: 0.194317\n",
      "[40]\tvalid_0's quantile: 0.188399\n",
      "[60]\tvalid_0's quantile: 0.187253\n",
      "[80]\tvalid_0's quantile: 0.187018\n",
      "\n",
      "----<quantile point 0.99>----\n",
      "[20]\tvalid_0's quantile: 0.0732777\n",
      "[40]\tvalid_0's quantile: 0.0637794\n",
      "[60]\tvalid_0's quantile: 0.0631703\n",
      "[80]\tvalid_0's quantile: 0.0629925\n",
      "[100]\tvalid_0's quantile: 0.0626517\n",
      "[120]\tvalid_0's quantile: 0.0625532\n",
      "[140]\tvalid_0's quantile: 0.0624628\n"
     ]
    }
   ],
   "source": [
    "params = dict(objective='quantile', max_depth=5, num_leaves=25, n_estimators=200, n_jobs=4)\n",
    "quantiles = (.5, .67, .95, .99)\n",
    "w = 0.1\n",
    "\n",
    "qr_models = []\n",
    "for q in quantiles:\n",
    "    print(f'\\n----<quantile point {q}>----')\n",
    "    mdl = LGBMRegressor(alpha=q, **params)\n",
    "    mdl.fit(x_train, y_train, eval_set=[(x_valid, y_valid)], early_stopping_rounds=10, verbose=20)\n",
    "    qr_models.append(mdl)"
   ]
  },
  {
   "cell_type": "code",
   "execution_count": null,
   "id": "589cfae6",
   "metadata": {},
   "outputs": [],
   "source": []
  },
  {
   "cell_type": "code",
   "execution_count": 28,
   "id": "34441233",
   "metadata": {},
   "outputs": [],
   "source": [
    "with open('C:/Users/Lenovo/Downloads/coursework_docs/Team_26_Developing_an_opinionated_sales_forecasting_MVP/LightGBM_model.pkl','wb') as f:\n",
    "     pickle.dump(mdl,f)"
   ]
  },
  {
   "cell_type": "code",
   "execution_count": 29,
   "id": "d2f8221a",
   "metadata": {},
   "outputs": [
    {
     "data": {
      "image/png": "[encoded data removed]",
      "text/plain": [
       "<Figure size 576x720 with 1 Axes>"
      ]
     },
     "metadata": {
      "needs_background": "light"
     },
     "output_type": "display_data"
    }
   ],
   "source": [
    "features=x_train.columns\n",
    "imp=mdl.feature_importances_\n",
    "indices=(np.argsort(imp))[5:]\n",
    "plt.figure(figsize=(8,10))\n",
    "plt.title('Feature Importance',fontsize=14)\n",
    "plt.barh(range(len(indices)),imp[indices],color='r')\n",
    "plt.yticks(range(len(indices)),[features[i] for i in indices])\n",
    "plt.xlabel('Relative Importance',fontsize=14)\n",
    "plt.show()"
   ]
  },
  {
   "cell_type": "code",
   "execution_count": 31,
   "id": "7a2d651c",
   "metadata": {},
   "outputs": [],
   "source": [
    "s1=pd.DataFrame()\n",
    "s2=pd.DataFrame()\n",
    "#test dataset(from 1914 to 1941 days) present in sales_train_evaluation only thats why sales_train_evaluation choosen\n",
    "s1 =sales_train_eval[['id','item_id','store_id','cat_id']]\n",
    "j=1\n",
    "for i in range(1914,1942):\n",
    "  s1['F'+str(j)]=mdl.predict(x_test[x_test['day']==(i)]) \n",
    "  j+=1\n",
    "s1[\"id\"]=s1[\"id\"].apply(lambda x: x.replace('evaluation','validation'))\n",
    "s2=s1.copy()\n",
    "s2[\"id\"]=s1[\"id\"].apply(lambda x: x.replace('validation','evaluation'))\n",
    "submit_LGBM_Regressor_=pd.concat([s1,s2]).reset_index().drop(['index'],axis=1)"
   ]
  },
  {
   "cell_type": "code",
   "execution_count": 32,
   "id": "40b8edda",
   "metadata": {},
   "outputs": [
    {
     "data": {
      "text/html": [
       "<div>\n",
       "<style scoped>\n",
       "    .dataframe tbody tr th:only-of-type {\n",
       "        vertical-align: middle;\n",
       "    }\n",
       "\n",
       "    .dataframe tbody tr th {\n",
       "        vertical-align: top;\n",
       "    }\n",
       "\n",
       "    .dataframe thead th {\n",
       "        text-align: right;\n",
       "    }\n",
       "</style>\n",
       "<table border=\"1\" class=\"dataframe\">\n",
       "  <thead>\n",
       "    <tr style=\"text-align: right;\">\n",
       "      <th></th>\n",
       "      <th>id</th>\n",
       "      <th>item_id</th>\n",
       "      <th>store_id</th>\n",
       "      <th>cat_id</th>\n",
       "      <th>F1</th>\n",
       "      <th>F2</th>\n",
       "      <th>F3</th>\n",
       "      <th>F4</th>\n",
       "      <th>F5</th>\n",
       "      <th>F6</th>\n",
       "      <th>...</th>\n",
       "      <th>F19</th>\n",
       "      <th>F20</th>\n",
       "      <th>F21</th>\n",
       "      <th>F22</th>\n",
       "      <th>F23</th>\n",
       "      <th>F24</th>\n",
       "      <th>F25</th>\n",
       "      <th>F26</th>\n",
       "      <th>F27</th>\n",
       "      <th>F28</th>\n",
       "    </tr>\n",
       "  </thead>\n",
       "  <tbody>\n",
       "    <tr>\n",
       "      <th>0</th>\n",
       "      <td>HOBBIES_1_001_CA_1_validation</td>\n",
       "      <td>HOBBIES_1_001</td>\n",
       "      <td>CA_1</td>\n",
       "      <td>HOBBIES</td>\n",
       "      <td>4.638920</td>\n",
       "      <td>4.038897</td>\n",
       "      <td>3.832522</td>\n",
       "      <td>3.750736</td>\n",
       "      <td>4.310737</td>\n",
       "      <td>5.237262</td>\n",
       "      <td>...</td>\n",
       "      <td>5.902490</td>\n",
       "      <td>6.416455</td>\n",
       "      <td>6.379969</td>\n",
       "      <td>4.207841</td>\n",
       "      <td>4.051061</td>\n",
       "      <td>3.870337</td>\n",
       "      <td>4.071100</td>\n",
       "      <td>5.065421</td>\n",
       "      <td>4.867546</td>\n",
       "      <td>5.015483</td>\n",
       "    </tr>\n",
       "    <tr>\n",
       "      <th>1</th>\n",
       "      <td>HOBBIES_1_002_CA_1_validation</td>\n",
       "      <td>HOBBIES_1_002</td>\n",
       "      <td>CA_1</td>\n",
       "      <td>HOBBIES</td>\n",
       "      <td>2.395023</td>\n",
       "      <td>2.042970</td>\n",
       "      <td>1.938218</td>\n",
       "      <td>2.348365</td>\n",
       "      <td>2.275549</td>\n",
       "      <td>2.812903</td>\n",
       "      <td>...</td>\n",
       "      <td>2.289665</td>\n",
       "      <td>2.645873</td>\n",
       "      <td>2.638114</td>\n",
       "      <td>2.238414</td>\n",
       "      <td>3.301445</td>\n",
       "      <td>3.233280</td>\n",
       "      <td>3.322169</td>\n",
       "      <td>3.542068</td>\n",
       "      <td>2.541350</td>\n",
       "      <td>2.428666</td>\n",
       "    </tr>\n",
       "    <tr>\n",
       "      <th>2</th>\n",
       "      <td>HOBBIES_1_003_CA_1_validation</td>\n",
       "      <td>HOBBIES_1_003</td>\n",
       "      <td>CA_1</td>\n",
       "      <td>HOBBIES</td>\n",
       "      <td>4.221759</td>\n",
       "      <td>4.056666</td>\n",
       "      <td>4.286257</td>\n",
       "      <td>4.294233</td>\n",
       "      <td>4.496605</td>\n",
       "      <td>6.388648</td>\n",
       "      <td>...</td>\n",
       "      <td>4.924362</td>\n",
       "      <td>5.830618</td>\n",
       "      <td>4.736300</td>\n",
       "      <td>3.672186</td>\n",
       "      <td>3.615478</td>\n",
       "      <td>3.115136</td>\n",
       "      <td>4.211151</td>\n",
       "      <td>4.537111</td>\n",
       "      <td>3.931744</td>\n",
       "      <td>4.259338</td>\n",
       "    </tr>\n",
       "    <tr>\n",
       "      <th>3</th>\n",
       "      <td>HOBBIES_1_004_CA_1_validation</td>\n",
       "      <td>HOBBIES_1_004</td>\n",
       "      <td>CA_1</td>\n",
       "      <td>HOBBIES</td>\n",
       "      <td>5.575560</td>\n",
       "      <td>4.645251</td>\n",
       "      <td>4.726084</td>\n",
       "      <td>6.084218</td>\n",
       "      <td>6.898871</td>\n",
       "      <td>7.466278</td>\n",
       "      <td>...</td>\n",
       "      <td>4.957885</td>\n",
       "      <td>6.208259</td>\n",
       "      <td>7.262963</td>\n",
       "      <td>5.265394</td>\n",
       "      <td>4.310225</td>\n",
       "      <td>4.428358</td>\n",
       "      <td>4.880145</td>\n",
       "      <td>5.138152</td>\n",
       "      <td>7.259722</td>\n",
       "      <td>7.508361</td>\n",
       "    </tr>\n",
       "    <tr>\n",
       "      <th>4</th>\n",
       "      <td>HOBBIES_1_005_CA_1_validation</td>\n",
       "      <td>HOBBIES_1_005</td>\n",
       "      <td>CA_1</td>\n",
       "      <td>HOBBIES</td>\n",
       "      <td>5.910583</td>\n",
       "      <td>5.886855</td>\n",
       "      <td>5.814237</td>\n",
       "      <td>6.430884</td>\n",
       "      <td>6.045559</td>\n",
       "      <td>5.925956</td>\n",
       "      <td>...</td>\n",
       "      <td>6.968864</td>\n",
       "      <td>8.197124</td>\n",
       "      <td>8.312674</td>\n",
       "      <td>6.691886</td>\n",
       "      <td>5.778239</td>\n",
       "      <td>5.720941</td>\n",
       "      <td>5.688657</td>\n",
       "      <td>6.119880</td>\n",
       "      <td>7.319575</td>\n",
       "      <td>6.842683</td>\n",
       "    </tr>\n",
       "  </tbody>\n",
       "</table>\n",
       "<p>5 rows × 32 columns</p>\n",
       "</div>"
      ],
      "text/plain": [
       "                              id        item_id store_id   cat_id        F1  \\\n",
       "0  HOBBIES_1_001_CA_1_validation  HOBBIES_1_001     CA_1  HOBBIES  4.638920   \n",
       "1  HOBBIES_1_002_CA_1_validation  HOBBIES_1_002     CA_1  HOBBIES  2.395023   \n",
       "2  HOBBIES_1_003_CA_1_validation  HOBBIES_1_003     CA_1  HOBBIES  4.221759   \n",
       "3  HOBBIES_1_004_CA_1_validation  HOBBIES_1_004     CA_1  HOBBIES  5.575560   \n",
       "4  HOBBIES_1_005_CA_1_validation  HOBBIES_1_005     CA_1  HOBBIES  5.910583   \n",
       "\n",
       "         F2        F3        F4        F5        F6  ...       F19       F20  \\\n",
       "0  4.038897  3.832522  3.750736  4.310737  5.237262  ...  5.902490  6.416455   \n",
       "1  2.042970  1.938218  2.348365  2.275549  2.812903  ...  2.289665  2.645873   \n",
       "2  4.056666  4.286257  4.294233  4.496605  6.388648  ...  4.924362  5.830618   \n",
       "3  4.645251  4.726084  6.084218  6.898871  7.466278  ...  4.957885  6.208259   \n",
       "4  5.886855  5.814237  6.430884  6.045559  5.925956  ...  6.968864  8.197124   \n",
       "\n",
       "        F21       F22       F23       F24       F25       F26       F27  \\\n",
       "0  6.379969  4.207841  4.051061  3.870337  4.071100  5.065421  4.867546   \n",
       "1  2.638114  2.238414  3.301445  3.233280  3.322169  3.542068  2.541350   \n",
       "2  4.736300  3.672186  3.615478  3.115136  4.211151  4.537111  3.931744   \n",
       "3  7.262963  5.265394  4.310225  4.428358  4.880145  5.138152  7.259722   \n",
       "4  8.312674  6.691886  5.778239  5.720941  5.688657  6.119880  7.319575   \n",
       "\n",
       "        F28  \n",
       "0  5.015483  \n",
       "1  2.428666  \n",
       "2  4.259338  \n",
       "3  7.508361  \n",
       "4  6.842683  \n",
       "\n",
       "[5 rows x 32 columns]"
      ]
     },
     "execution_count": 32,
     "metadata": {},
     "output_type": "execute_result"
    }
   ],
   "source": [
    "submit_LGBM_Regressor_.head()"
   ]
  },
  {
   "cell_type": "code",
   "execution_count": 34,
   "id": "e5b81a5a",
   "metadata": {},
   "outputs": [],
   "source": [
    "submit_LGBM_Regressor_.to_csv(\"C:/Users/Lenovo/Downloads/coursework_docs/Team_26_Developing_an_opinionated_sales_forecasting_MVP/submit_LGBM_Regressor_.csv\",index=False)"
   ]
  },
  {
   "cell_type": "code",
   "execution_count": 25,
   "id": "e878561c",
   "metadata": {},
   "outputs": [],
   "source": [
    "#Predicted value of quantile\n",
    "tr_pred_qps = []\n",
    "for mdl in qr_models:\n",
    "    tr_pred_qps.append(mdl.predict(x_train))\n",
    "\n",
    "ts_pred_qps = []\n",
    "for mdl in qr_models:\n",
    "    ts_pred_qps.append(mdl.predict(x_test))\n",
    "\n",
    "#Calculate mean and standard deviation of predicted values\n",
    "def calc_ave_std(pred_quantile_points):\n",
    "    pred_ave = np.zeros_like(pred_quantile_points[0])\n",
    "    for pred in pred_quantile_points:\n",
    "        pred_ave += w * pred\n",
    "\n",
    "    pred_std = np.zeros_like(pred_quantile_points[0])\n",
    "    for pred in pred_quantile_points:\n",
    "        pred_std += w * (pred - pred_ave) ** 2\n",
    "    pred_std = np.sqrt(pred_std)\n",
    "\n",
    "    return pred_ave, pred_std"
   ]
  },
  {
   "cell_type": "code",
   "execution_count": 26,
   "id": "bdfcd26b",
   "metadata": {},
   "outputs": [],
   "source": [
    "tr_pred_ave, tr_pred_std = calc_ave_std(tr_pred_qps)\n",
    "ts_pred_ave, ts_pred_std = calc_ave_std(ts_pred_qps)"
   ]
  },
  {
   "cell_type": "markdown",
   "id": "bc22b24f",
   "metadata": {},
   "source": [
    "we visualize our estimates within the highest and lowest quantiles."
   ]
  },
  {
   "cell_type": "code",
   "execution_count": 27,
   "id": "7cd7fa15",
   "metadata": {},
   "outputs": [
    {
     "name": "stdout",
     "output_type": "stream",
     "text": [
      "train\n",
      "test\n"
     ]
    },
    {
     "data": {
      "image/png": "[encoded data removed]",
      "text/plain": [
       "<Figure size 360x360 with 1 Axes>"
      ]
     },
     "metadata": {
      "needs_background": "light"
     },
     "output_type": "display_data"
    },
    {
     "data": {
      "image/png": "[encoded data removed]",
      "text/plain": [
       "<Figure size 360x360 with 1 Axes>"
      ]
     },
     "metadata": {
      "needs_background": "light"
     },
     "output_type": "display_data"
    }
   ],
   "source": [
    "def plot_true_vs_pred(y_true, pred_list, labels):\n",
    "    fig, ax = plt.subplots(1, 1, figsize=(5,5))\n",
    "\n",
    "    for pred, lbl in zip(pred_list, labels):\n",
    "        ax.scatter(y_true, pred, label=lbl, s=10, alpha=0.3)\n",
    "    ax.plot([np.min(y_true), np.max(y_true)], [np.min(y_true), np.max(y_true)], ls='-', c='r')\n",
    "\n",
    "    ax.set_xlabel('true log(sales)')\n",
    "    ax.set_ylabel('predicted log(sales)')\n",
    "    ax.legend()\n",
    "    fig.show()\n",
    "\n",
    "print('train')\n",
    "plot_true_vs_pred(y_train, \n",
    "                  [tr_pred_qps[0], tr_pred_qps[3]],\n",
    "                  [f'quantile {quantiles[0]}', f'quantile {quantiles[3]}'])\n",
    "\n",
    "print('test')\n",
    "plot_true_vs_pred(y_test, \n",
    "                  [ts_pred_qps[0], ts_pred_qps[3]],\n",
    "                  [f'quantile {quantiles[0]}', f'quantile {quantiles[3]}'])"
   ]
  },
  {
   "cell_type": "markdown",
   "id": "6d86a10b",
   "metadata": {},
   "source": [
    "for quantiles that are well estimated, the estimates are small for the small quantiles and large for the large quantiles.\n",
    "\n",
    "looks good. We notice, the larger the quantile, the larger the estimate. However, there are some cases where this is not the case which may mean there could be some error."
   ]
  },
  {
   "cell_type": "code",
   "execution_count": 36,
   "id": "bd7ce36f",
   "metadata": {},
   "outputs": [
    {
     "data": {
      "image/png": "[encoded data removed]",
      "text/plain": [
       "<Figure size 360x360 with 1 Axes>"
      ]
     },
     "metadata": {
      "needs_background": "light"
     },
     "output_type": "display_data"
    },
    {
     "data": {
      "image/png": "[encoded data removed]",
      "text/plain": [
       "<Figure size 360x360 with 1 Axes>"
      ]
     },
     "metadata": {
      "needs_background": "light"
     },
     "output_type": "display_data"
    }
   ],
   "source": [
    "def plot_proba_less_than_quantile_point(quantiles, y_true, pred_list):\n",
    "    proba = []\n",
    "    for pred in pred_list:\n",
    "        prb = np.sum(y_true < pred) / len(y_true)\n",
    "        proba.append(prb)\n",
    "\n",
    "    fig, ax = plt.subplots(1, 1, figsize=(5,5))\n",
    "    ax.plot(quantiles, proba, label='probability')\n",
    "    ax.plot([0, 1], [0, 1], ls='-', c='r')\n",
    "\n",
    "    ax.set_xlabel('quantile')\n",
    "    ax.set_ylabel('probability that correct value <= predicted_quantile_point')\n",
    "    ax.legend()\n",
    "    fig.show()\n",
    "\n",
    "plot_proba_less_than_quantile_point(quantiles, y_train, tr_pred_qps)\n",
    "plot_proba_less_than_quantile_point(quantiles, y_test, ts_pred_qps)"
   ]
  },
  {
   "cell_type": "markdown",
   "id": "206b2fbe",
   "metadata": {},
   "source": [
    "### tuning the model"
   ]
  },
  {
   "cell_type": "code",
   "execution_count": 12,
   "id": "0d4dedef",
   "metadata": {},
   "outputs": [
    {
     "name": "stdout",
     "output_type": "stream",
     "text": [
      "\n",
      "----<quantile point 0.5>----\n",
      "[20]\tvalid_0's quantile: 0.505647\n",
      "[40]\tvalid_0's quantile: 0.432765\n",
      "[60]\tvalid_0's quantile: 0.404319\n",
      "[80]\tvalid_0's quantile: 0.39424\n",
      "[100]\tvalid_0's quantile: 0.389824\n",
      "[120]\tvalid_0's quantile: 0.387789\n",
      "[140]\tvalid_0's quantile: 0.386541\n",
      "[160]\tvalid_0's quantile: 0.385949\n",
      "[180]\tvalid_0's quantile: 0.385646\n",
      "[200]\tvalid_0's quantile: 0.385525\n",
      "\n",
      "----<quantile point 0.67>----\n",
      "[20]\tvalid_0's quantile: 0.565597\n",
      "[40]\tvalid_0's quantile: 0.467939\n",
      "[60]\tvalid_0's quantile: 0.433774\n",
      "[80]\tvalid_0's quantile: 0.421416\n",
      "[100]\tvalid_0's quantile: 0.416332\n",
      "[120]\tvalid_0's quantile: 0.414146\n",
      "[140]\tvalid_0's quantile: 0.413069\n",
      "[160]\tvalid_0's quantile: 0.412601\n",
      "[180]\tvalid_0's quantile: 0.412368\n",
      "[200]\tvalid_0's quantile: 0.412266\n",
      "\n",
      "----<quantile point 0.95>----\n",
      "[20]\tvalid_0's quantile: 0.255835\n",
      "[40]\tvalid_0's quantile: 0.20274\n",
      "[60]\tvalid_0's quantile: 0.190864\n",
      "[80]\tvalid_0's quantile: 0.18775\n",
      "[100]\tvalid_0's quantile: 0.186595\n",
      "[120]\tvalid_0's quantile: 0.186069\n",
      "[140]\tvalid_0's quantile: 0.185747\n",
      "[160]\tvalid_0's quantile: 0.185668\n",
      "\n",
      "----<quantile point 0.99>----\n",
      "[20]\tvalid_0's quantile: 0.111343\n",
      "[40]\tvalid_0's quantile: 0.0826543\n",
      "[60]\tvalid_0's quantile: 0.0699474\n",
      "[80]\tvalid_0's quantile: 0.0647357\n",
      "[100]\tvalid_0's quantile: 0.0629439\n",
      "[120]\tvalid_0's quantile: 0.0623023\n",
      "[140]\tvalid_0's quantile: 0.0619956\n",
      "[160]\tvalid_0's quantile: 0.0618452\n",
      "[180]\tvalid_0's quantile: 0.0617309\n",
      "[200]\tvalid_0's quantile: 0.0616521\n"
     ]
    }
   ],
   "source": [
    "\n",
    "params = dict(objective='quantile',learning_rate=0.034, max_depth=66, num_leaves=224, n_estimators=200, n_jobs=4)\n",
    "quantiles = (.5, .67, .95, .99)\n",
    "w = 0.1\n",
    "\n",
    "q_models = []\n",
    "for q in quantiles:\n",
    "    print(f'\\n----<quantile point {q}>----')\n",
    "    model = LGBMRegressor(alpha=q, **params)\n",
    "    model.fit(x_train, y_train, eval_set=[(x_valid, y_valid)], early_stopping_rounds=10, verbose=20)\n",
    "    q_models.append(model)"
   ]
  },
  {
   "cell_type": "code",
   "execution_count": null,
   "id": "6fe45a6e",
   "metadata": {},
   "outputs": [],
   "source": []
  },
  {
   "cell_type": "code",
   "execution_count": null,
   "id": "1d15f3d6",
   "metadata": {},
   "outputs": [],
   "source": []
  },
  {
   "cell_type": "code",
   "execution_count": null,
   "id": "d168aa9f",
   "metadata": {},
   "outputs": [],
   "source": [
    "def plot_error(y_true, pred_ave, pred_std):\n",
    "    fig, axs = plt.subplots(1, 3, figsize=(15,5))\n",
    "\n",
    "    ax = axs[0]\n",
    "    ax.scatter(y_true, pred_ave, s=10, label='predicted average')\n",
    "    ax.plot([np.min(y_true), np.max(y_true)], [np.min(y_true), np.max(y_true)], ls='-', c='r')\n",
    "    ax.set_xlabel('true log(sales)')\n",
    "    ax.set_ylabel('predicted log(sales)')\n",
    "    ax.legend()\n",
    "\n",
    "    ax = axs[1]\n",
    "    ax.scatter(y_true, pred_std, s=10, label='predicted std')\n",
    "    ax.set_xlabel('true log(sales)')\n",
    "    ax.set_ylabel('predicted std of log(sales)')\n",
    "    ax.legend()\n",
    "\n",
    "    ax = axs[2]\n",
    "    ax.scatter(pred_std, y_true - pred_ave, s=10)\n",
    "    ax.set_xlabel('predicted std')\n",
    "    ax.set_ylabel('true - predict of log(sales)')\n",
    "\n",
    "    fig.show()\n",
    "\n",
    "plot_error(y_train, tr_pred_ave, tr_pred_std)\n",
    "plot_error(y_test, ts_pred_ave, ts_pred_std)"
   ]
  },
  {
   "cell_type": "code",
   "execution_count": null,
   "id": "975404a1",
   "metadata": {},
   "outputs": [],
   "source": []
  }
 ],
 "metadata": {
  "kernelspec": {
   "display_name": "Python 3.9.13 64-bit (microsoft store)",
   "language": "python",
   "name": "python3"
  },
  "language_info": {
   "codemirror_mode": {
    "name": "ipython",
    "version": 3
   },
   "file_extension": ".py",
   "mimetype": "text/x-python",
   "name": "python",
   "nbconvert_exporter": "python",
   "pygments_lexer": "ipython3",
   "version": "3.9.13"
  },
  "vscode": {
   "interpreter": {
    "hash": "330291e952ef2592d61b7857e145d2070e6df96cbb58463d8ee825546f424b29"
   }
  }
 },
 "nbformat": 4,
 "nbformat_minor": 5
}
